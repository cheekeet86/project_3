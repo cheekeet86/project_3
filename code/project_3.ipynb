{
 "cells": [
  {
   "cell_type": "markdown",
   "metadata": {},
   "source": [
    "# Project 3: Web APIs & Classification"
   ]
  },
  {
   "cell_type": "markdown",
   "metadata": {},
   "source": [
    "### Contents\n",
    "\n",
    "- [Problem Statement](#Problem-Statement)\n",
    "- [Functions](#Functions)\n",
    "- [Importing](#Importing)\n",
    "\n",
    "\n",
    "- [Inspect Data](#Inspect-Data)\n",
    "- [Clean Data](#Clean-Data)\n",
    "- [Output Clean Data](#Output-Clean-Data)\n",
    "\n",
    "\n",
    "- [EDA](#EDA)\n",
    "\n",
    "\n",
    "- [Create Feature Matrix and Target](#Create-Feature-Matrix-and-Target)\n",
    "\n",
    "\n",
    "\n",
    "- [Output Model Predictions](#Output-Model-Predictions)\n",
    "\n",
    "\n",
    "- [Descriptive and Inferential Statistics](#Descriptive-and-Inferential-Statistics)\n",
    "- [Outside Research](#Outside-Research)\n",
    "- [Conclusions and Recommendations](#Conclusions-and-Recommendations)"
   ]
  },
  {
   "cell_type": "markdown",
   "metadata": {},
   "source": [
    "### Problem Statement\n",
    "\n",
    "- Blank"
   ]
  },
  {
   "cell_type": "markdown",
   "metadata": {},
   "source": [
    "### Configurations and Libraries"
   ]
  },
  {
   "cell_type": "code",
   "execution_count": 1,
   "metadata": {},
   "outputs": [],
   "source": [
    "# user configuration\n",
    "\n",
    "# True: scape data from website -> save as json files\n",
    "# False: load json files\n",
    "scape_data = False\n",
    "\n",
    "# scape data for subreddits[0] if scape_data=True\n",
    "scape_index = 0\n",
    "# scape data for subreddits[1] if scape_data=True\n",
    "#scape_index = 1\n",
    "\n",
    "num_requests = 50\n",
    "posts_limit = 900\n",
    "\n",
    "subreddits = ['boardgames','mobilegames']\n",
    "url = \"https://www.reddit.com/r/\"\n",
    "headers = {'User-agent':'Bleep blorp bot 0.1'}\n",
    "\n",
    "features = 'title'\n",
    "#features = 'selftext'"
   ]
  },
  {
   "cell_type": "code",
   "execution_count": 2,
   "metadata": {},
   "outputs": [],
   "source": [
    "# import libraries\n",
    "\n",
    "# maths\n",
    "import scipy.stats as stats\n",
    "import numpy as np\n",
    "import pandas as pd\n",
    "#from pandas.api.types import is_numeric_dtype\n",
    "\n",
    "# visual\n",
    "import seaborn as sns\n",
    "import matplotlib.pyplot as plt\n",
    "from matplotlib_venn import venn2\n",
    "%matplotlib inline\n",
    "\n",
    "# modelling\n",
    "from sklearn.linear_model import LinearRegression,LogisticRegression\n",
    "from sklearn import linear_model\n",
    "from sklearn.model_selection import train_test_split,cross_val_score\n",
    "from sklearn.preprocessing import StandardScaler,PolynomialFeatures\n",
    "from sklearn.linear_model import Ridge\n",
    "from sklearn.metrics import r2_score,mean_squared_error,confusion_matrix,accuracy_score\n",
    "from sklearn.pipeline import make_pipeline\n",
    "\n",
    "# nlp\n",
    "from sklearn.feature_extraction.text import CountVectorizer,HashingVectorizer,TfidfVectorizer\n",
    "from sklearn.naive_bayes import MultinomialNB\n",
    "from nltk.stem import PorterStemmer,WordNetLemmatizer\n",
    "from nltk.tokenize import sent_tokenize, word_tokenize\n",
    "from nltk.corpus import stopwords\n",
    "\n",
    "# web\n",
    "import requests\n",
    "import json\n",
    "from IPython.display import Image\n",
    "from IPython.core.display import HTML\n",
    "\n",
    "# others\n",
    "import time\n",
    "import datetime as dt\n",
    "import re\n",
    "import os"
   ]
  },
  {
   "cell_type": "code",
   "execution_count": 3,
   "metadata": {},
   "outputs": [],
   "source": [
    "# file paths\n",
    "\n",
    "input_path = '../data/input/'\n",
    "mid_path = '../data/mid/'\n",
    "output_path = '../data/output/'\n",
    "\n",
    "image_path = '../images/'"
   ]
  },
  {
   "cell_type": "markdown",
   "metadata": {},
   "source": [
    "### Functions"
   ]
  },
  {
   "cell_type": "code",
   "execution_count": 4,
   "metadata": {},
   "outputs": [],
   "source": [
    "# output scaped data to json files\n",
    "def write_json_files(data):    \n",
    "    \n",
    "    timestamp = dt.datetime.now()\n",
    "    timestamp = timestamp.strftime(\" %Y_%m_%d %H_%M_%S\")\n",
    "    \n",
    "    filepath = input_path + subreddits[scape_index] + '/'\n",
    "    filename = subreddits[scape_index] + timestamp + '.json'\n",
    "    \n",
    "    if not os.path.exists(filepath):\n",
    "        os.makedirs(filepath)\n",
    "    \n",
    "    file = open(filepath + filename,\"w+\")    \n",
    "    json.dump(data,file)\n",
    "    \n",
    "    print('created',filename)"
   ]
  },
  {
   "cell_type": "code",
   "execution_count": 5,
   "metadata": {},
   "outputs": [],
   "source": [
    "# create posts list from json files\n",
    "def read_json_files(subreddit):   \n",
    "    \n",
    "    files = []    \n",
    "    filepath = input_path + subreddit\n",
    "\n",
    "    # r=root, d=directories, f = files\n",
    "    for r, d, f in os.walk(filepath):\n",
    "        for file in f:\n",
    "            if '.json' in file:\n",
    "                files.append(os.path.join(r, file))\n",
    "                \n",
    "    posts = []\n",
    "\n",
    "    # load in newer jsons first\n",
    "    for f in files[::-1]:\n",
    "        print(f)\n",
    "        file_data = open(f).read()\n",
    "        json_data = json.loads(file_data)\n",
    "\n",
    "        posts.extend(json_data['data']['children'])\n",
    "        after = json_data['data']['after']\n",
    "        \n",
    "    return posts"
   ]
  },
  {
   "cell_type": "code",
   "execution_count": 6,
   "metadata": {},
   "outputs": [],
   "source": [
    "# created df with posts\n",
    "\n",
    "def create_df(posts,df):\n",
    "\n",
    "    for idx,p in enumerate(posts):\n",
    "\n",
    "        p_keys = p['data'].keys()\n",
    "\n",
    "        for col in cols:\n",
    "\n",
    "            if col in p_keys:\n",
    "                df.at[idx,col] = p['data'][col]\n",
    "            else:\n",
    "                df.at[idx,col] = np.nan\n",
    "                print(idx,col,'nan')\n",
    "                \n",
    "    return df"
   ]
  },
  {
   "cell_type": "markdown",
   "metadata": {},
   "source": [
    "### Scape or Import Data"
   ]
  },
  {
   "cell_type": "code",
   "execution_count": 7,
   "metadata": {},
   "outputs": [],
   "source": [
    "# old method (not used)\n",
    "# get json from reddit boardgames\n",
    "\n",
    "# if scape_data == True:\n",
    "\n",
    "#     response = requests.get(url,headers=headers)\n",
    "#     print(response.status_code)\n",
    "\n",
    "#     json_data = response.json()\n",
    "#     sorted(json_data.keys())"
   ]
  },
  {
   "cell_type": "code",
   "execution_count": 8,
   "metadata": {},
   "outputs": [],
   "source": [
    "# old method (not used)\n",
    "# print number of posts in json_data\n",
    "\n",
    "# if scape_data == True:\n",
    "\n",
    "#     print(len(json_data['data']['children']))\n",
    "\n",
    "#     # print info in kind\n",
    "#     print(json_data['kind'])\n",
    "#     print('')\n",
    "\n",
    "#     # print data keys\n",
    "#     print(sorted(json_data['data'].keys()))\n",
    "#     print('')\n",
    "\n",
    "#     # print 1st post\n",
    "#     print(json_data['data']['children'][0]['data'])\n",
    "#     print('')\n",
    "\n",
    "#     # print id of of last post\n",
    "#     print(json_data['data']['after'])"
   ]
  },
  {
   "cell_type": "code",
   "execution_count": 9,
   "metadata": {},
   "outputs": [],
   "source": [
    "# old method (not used)\n",
    "# print ids of all posts\n",
    "\n",
    "# if scape_data == True:\n",
    "\n",
    "#     [post['data']['name'] for post in json_data['data']['children']]"
   ]
  },
  {
   "cell_type": "code",
   "execution_count": 10,
   "metadata": {},
   "outputs": [],
   "source": [
    "# get json_data with multiple requests\n",
    "\n",
    "if scape_data == True:\n",
    "\n",
    "    posts = []\n",
    "    after = None\n",
    "\n",
    "    for i in range(1,num_requests+1):\n",
    "\n",
    "        if after == None:\n",
    "            params = {}\n",
    "        else:\n",
    "            params = {'after':after}\n",
    "\n",
    "        json_url = url + subreddits[scape_index] + '.json'\n",
    "        response = requests.get(json_url,params=params,headers=headers)\n",
    "\n",
    "        if response.status_code == 200:       \n",
    "\n",
    "            print('process request',i)\n",
    "\n",
    "            json_data = response.json()\n",
    "            posts.extend(json_data['data']['children'])\n",
    "            after = json_data['data']['after']\n",
    "\n",
    "            # save scaped data to files\n",
    "            write_json_files(json_data)        \n",
    "\n",
    "        else:\n",
    "            print(response.status_code)\n",
    "            break\n",
    "\n",
    "        time.sleep(2)"
   ]
  },
  {
   "cell_type": "code",
   "execution_count": 11,
   "metadata": {},
   "outputs": [
    {
     "name": "stdout",
     "output_type": "stream",
     "text": [
      "../data/input/boardgames\\boardgames 2019_07_19 21_42_59.json\n",
      "../data/input/boardgames\\boardgames 2019_07_19 21_42_56.json\n",
      "../data/input/boardgames\\boardgames 2019_07_19 21_42_53.json\n",
      "../data/input/boardgames\\boardgames 2019_07_19 21_42_50.json\n",
      "../data/input/boardgames\\boardgames 2019_07_19 21_42_48.json\n",
      "../data/input/boardgames\\boardgames 2019_07_19 21_42_45.json\n",
      "../data/input/boardgames\\boardgames 2019_07_19 21_42_42.json\n",
      "../data/input/boardgames\\boardgames 2019_07_19 21_42_39.json\n",
      "../data/input/boardgames\\boardgames 2019_07_19 21_42_36.json\n",
      "../data/input/boardgames\\boardgames 2019_07_19 21_42_32.json\n",
      "../data/input/boardgames\\boardgames 2019_07_19 21_42_29.json\n",
      "../data/input/boardgames\\boardgames 2019_07_19 21_42_27.json\n",
      "../data/input/boardgames\\boardgames 2019_07_19 21_42_24.json\n",
      "../data/input/boardgames\\boardgames 2019_07_19 21_42_21.json\n",
      "../data/input/boardgames\\boardgames 2019_07_19 21_42_18.json\n",
      "../data/input/boardgames\\boardgames 2019_07_19 21_42_15.json\n",
      "../data/input/boardgames\\boardgames 2019_07_19 21_42_13.json\n",
      "../data/input/boardgames\\boardgames 2019_07_19 21_42_10.json\n",
      "../data/input/boardgames\\boardgames 2019_07_19 21_42_07.json\n",
      "../data/input/boardgames\\boardgames 2019_07_19 21_42_04.json\n",
      "../data/input/boardgames\\boardgames 2019_07_19 21_42_01.json\n",
      "../data/input/boardgames\\boardgames 2019_07_19 21_41_58.json\n",
      "../data/input/boardgames\\boardgames 2019_07_19 21_41_55.json\n",
      "../data/input/boardgames\\boardgames 2019_07_19 21_41_52.json\n",
      "../data/input/boardgames\\boardgames 2019_07_19 21_41_49.json\n",
      "../data/input/boardgames\\boardgames 2019_07_19 21_41_47.json\n",
      "../data/input/boardgames\\boardgames 2019_07_19 21_41_43.json\n",
      "../data/input/boardgames\\boardgames 2019_07_19 21_41_40.json\n",
      "../data/input/boardgames\\boardgames 2019_07_19 21_41_37.json\n",
      "../data/input/boardgames\\boardgames 2019_07_19 21_41_34.json\n",
      "../data/input/boardgames\\boardgames 2019_07_19 21_41_31.json\n",
      "../data/input/boardgames\\boardgames 2019_07_19 21_41_28.json\n",
      "../data/input/boardgames\\boardgames 2019_07_19 21_41_26.json\n",
      "../data/input/boardgames\\boardgames 2019_07_19 21_41_23.json\n",
      "../data/input/boardgames\\boardgames 2019_07_19 21_41_20.json\n",
      "../data/input/boardgames\\boardgames 2019_07_19 21_41_17.json\n",
      "../data/input/boardgames\\boardgames 2019_07_19 21_41_13.json\n",
      "../data/input/boardgames\\boardgames 2019_07_19 21_41_11.json\n",
      "../data/input/boardgames\\boardgames 2019_07_19 21_41_08.json\n",
      "../data/input/boardgames\\boardgames 2019_07_19 21_41_05.json\n",
      "../data/input/boardgames\\boardgames 2019_07_19 21_41_02.json\n",
      "../data/input/boardgames\\boardgames 2019_07_19 21_40_59.json\n",
      "../data/input/boardgames\\boardgames 2019_07_19 21_40_56.json\n",
      "../data/input/boardgames\\boardgames 2019_07_19 21_40_53.json\n",
      "../data/input/boardgames\\boardgames 2019_07_19 21_40_50.json\n",
      "../data/input/boardgames\\boardgames 2019_07_19 21_40_48.json\n",
      "../data/input/boardgames\\boardgames 2019_07_19 21_40_45.json\n",
      "../data/input/boardgames\\boardgames 2019_07_19 21_40_42.json\n",
      "../data/input/boardgames\\boardgames 2019_07_19 21_40_39.json\n",
      "../data/input/boardgames\\boardgames 2019_07_19 21_40_36.json\n",
      "../data/input/boardgames\\boardgames 2019_07_15 21_05_15.json\n",
      "../data/input/boardgames\\boardgames 2019_07_15 21_05_10.json\n",
      "../data/input/boardgames\\boardgames 2019_07_15 21_05_07.json\n",
      "../data/input/boardgames\\boardgames 2019_07_15 21_05_03.json\n",
      "../data/input/boardgames\\boardgames 2019_07_15 21_04_59.json\n",
      "../data/input/boardgames\\boardgames 2019_07_15 21_04_55.json\n",
      "../data/input/boardgames\\boardgames 2019_07_15 21_04_51.json\n",
      "../data/input/boardgames\\boardgames 2019_07_15 21_04_46.json\n",
      "../data/input/boardgames\\boardgames 2019_07_15 21_04_43.json\n",
      "../data/input/boardgames\\boardgames 2019_07_15 21_04_39.json\n",
      "../data/input/boardgames\\boardgames 2019_07_15 21_04_35.json\n",
      "../data/input/boardgames\\boardgames 2019_07_15 21_04_31.json\n",
      "../data/input/boardgames\\boardgames 2019_07_15 21_04_27.json\n",
      "../data/input/boardgames\\boardgames 2019_07_15 21_04_23.json\n",
      "../data/input/boardgames\\boardgames 2019_07_15 21_04_19.json\n",
      "../data/input/boardgames\\boardgames 2019_07_15 21_04_15.json\n",
      "../data/input/boardgames\\boardgames 2019_07_15 21_04_11.json\n",
      "../data/input/boardgames\\boardgames 2019_07_15 21_04_07.json\n",
      "../data/input/boardgames\\boardgames 2019_07_15 21_04_03.json\n",
      "../data/input/boardgames\\boardgames 2019_07_15 21_03_58.json\n",
      "../data/input/boardgames\\boardgames 2019_07_15 21_03_54.json\n",
      "../data/input/boardgames\\boardgames 2019_07_15 21_03_50.json\n",
      "../data/input/boardgames\\boardgames 2019_07_15 21_03_47.json\n",
      "../data/input/boardgames\\boardgames 2019_07_15 21_03_43.json\n",
      "../data/input/boardgames\\boardgames 2019_07_15 21_03_39.json\n",
      "../data/input/boardgames\\boardgames 2019_07_15 21_03_35.json\n",
      "../data/input/boardgames\\boardgames 2019_07_15 21_03_31.json\n",
      "../data/input/boardgames\\boardgames 2019_07_15 21_03_27.json\n",
      "../data/input/boardgames\\boardgames 2019_07_15 21_03_23.json\n",
      "../data/input/boardgames\\boardgames 2019_07_15 21_03_19.json\n",
      "../data/input/boardgames\\boardgames 2019_07_15 21_03_15.json\n",
      "../data/input/boardgames\\boardgames 2019_07_15 21_03_12.json\n",
      "../data/input/boardgames\\boardgames 2019_07_15 21_03_08.json\n",
      "../data/input/boardgames\\boardgames 2019_07_15 21_03_04.json\n",
      "../data/input/boardgames\\boardgames 2019_07_15 21_03_00.json\n",
      "../data/input/boardgames\\boardgames 2019_07_15 21_02_56.json\n",
      "../data/input/boardgames\\boardgames 2019_07_15 21_02_52.json\n",
      "../data/input/boardgames\\boardgames 2019_07_15 21_02_48.json\n",
      "../data/input/boardgames\\boardgames 2019_07_15 21_02_44.json\n",
      "../data/input/boardgames\\boardgames 2019_07_15 21_02_41.json\n",
      "../data/input/mobilegames\\mobilegames 2019_07_19 21_39_51.json\n",
      "../data/input/mobilegames\\mobilegames 2019_07_19 21_39_48.json\n",
      "../data/input/mobilegames\\mobilegames 2019_07_19 21_39_46.json\n",
      "../data/input/mobilegames\\mobilegames 2019_07_19 21_39_44.json\n",
      "../data/input/mobilegames\\mobilegames 2019_07_19 21_39_41.json\n",
      "../data/input/mobilegames\\mobilegames 2019_07_19 21_39_38.json\n",
      "../data/input/mobilegames\\mobilegames 2019_07_19 21_39_36.json\n",
      "../data/input/mobilegames\\mobilegames 2019_07_19 21_39_33.json\n",
      "../data/input/mobilegames\\mobilegames 2019_07_19 21_39_31.json\n",
      "../data/input/mobilegames\\mobilegames 2019_07_19 21_39_28.json\n",
      "../data/input/mobilegames\\mobilegames 2019_07_19 21_39_26.json\n",
      "../data/input/mobilegames\\mobilegames 2019_07_19 21_39_23.json\n",
      "../data/input/mobilegames\\mobilegames 2019_07_19 21_39_21.json\n",
      "../data/input/mobilegames\\mobilegames 2019_07_19 21_39_18.json\n",
      "../data/input/mobilegames\\mobilegames 2019_07_19 21_39_16.json\n",
      "../data/input/mobilegames\\mobilegames 2019_07_19 21_39_13.json\n",
      "../data/input/mobilegames\\mobilegames 2019_07_19 21_39_11.json\n",
      "../data/input/mobilegames\\mobilegames 2019_07_19 21_39_08.json\n",
      "../data/input/mobilegames\\mobilegames 2019_07_19 21_39_06.json\n",
      "../data/input/mobilegames\\mobilegames 2019_07_19 21_39_03.json\n",
      "../data/input/mobilegames\\mobilegames 2019_07_19 21_39_01.json\n",
      "../data/input/mobilegames\\mobilegames 2019_07_19 21_38_58.json\n",
      "../data/input/mobilegames\\mobilegames 2019_07_19 21_38_56.json\n",
      "../data/input/mobilegames\\mobilegames 2019_07_19 21_38_53.json\n",
      "../data/input/mobilegames\\mobilegames 2019_07_19 21_38_50.json\n",
      "../data/input/mobilegames\\mobilegames 2019_07_19 21_38_47.json\n",
      "../data/input/mobilegames\\mobilegames 2019_07_19 21_38_44.json\n",
      "../data/input/mobilegames\\mobilegames 2019_07_19 21_38_42.json\n",
      "../data/input/mobilegames\\mobilegames 2019_07_19 21_38_39.json\n",
      "../data/input/mobilegames\\mobilegames 2019_07_19 21_38_37.json\n",
      "../data/input/mobilegames\\mobilegames 2019_07_19 21_38_34.json\n",
      "../data/input/mobilegames\\mobilegames 2019_07_19 21_38_31.json\n",
      "../data/input/mobilegames\\mobilegames 2019_07_19 21_38_29.json\n",
      "../data/input/mobilegames\\mobilegames 2019_07_19 21_38_26.json\n",
      "../data/input/mobilegames\\mobilegames 2019_07_19 21_38_23.json\n",
      "../data/input/mobilegames\\mobilegames 2019_07_19 21_38_21.json\n",
      "../data/input/mobilegames\\mobilegames 2019_07_19 21_38_18.json\n",
      "../data/input/mobilegames\\mobilegames 2019_07_19 21_38_16.json\n",
      "../data/input/mobilegames\\mobilegames 2019_07_19 21_38_13.json\n",
      "../data/input/mobilegames\\mobilegames 2019_07_19 21_38_11.json\n",
      "../data/input/mobilegames\\mobilegames 2019_07_19 21_38_08.json\n",
      "../data/input/mobilegames\\mobilegames 2019_07_19 21_38_06.json\n",
      "../data/input/mobilegames\\mobilegames 2019_07_19 21_38_03.json\n",
      "../data/input/mobilegames\\mobilegames 2019_07_19 21_38_01.json\n",
      "../data/input/mobilegames\\mobilegames 2019_07_19 21_37_58.json\n",
      "../data/input/mobilegames\\mobilegames 2019_07_19 21_37_56.json\n",
      "../data/input/mobilegames\\mobilegames 2019_07_19 21_37_53.json\n",
      "../data/input/mobilegames\\mobilegames 2019_07_19 21_37_51.json\n",
      "../data/input/mobilegames\\mobilegames 2019_07_19 21_37_48.json\n",
      "../data/input/mobilegames\\mobilegames 2019_07_19 21_37_46.json\n",
      "../data/input/mobilegames\\mobilegames 2019_07_17 20_17_16.json\n",
      "../data/input/mobilegames\\mobilegames 2019_07_17 20_17_12.json\n",
      "../data/input/mobilegames\\mobilegames 2019_07_17 20_17_09.json\n",
      "../data/input/mobilegames\\mobilegames 2019_07_17 20_17_05.json\n",
      "../data/input/mobilegames\\mobilegames 2019_07_17 20_17_02.json\n",
      "../data/input/mobilegames\\mobilegames 2019_07_17 20_16_58.json\n",
      "../data/input/mobilegames\\mobilegames 2019_07_17 20_16_54.json\n",
      "../data/input/mobilegames\\mobilegames 2019_07_17 20_16_51.json\n",
      "../data/input/mobilegames\\mobilegames 2019_07_17 20_16_47.json\n",
      "../data/input/mobilegames\\mobilegames 2019_07_17 20_16_44.json\n",
      "../data/input/mobilegames\\mobilegames 2019_07_17 20_16_40.json\n",
      "../data/input/mobilegames\\mobilegames 2019_07_17 20_16_36.json\n",
      "../data/input/mobilegames\\mobilegames 2019_07_17 20_16_33.json\n",
      "../data/input/mobilegames\\mobilegames 2019_07_17 20_16_29.json\n",
      "../data/input/mobilegames\\mobilegames 2019_07_17 20_16_26.json\n",
      "../data/input/mobilegames\\mobilegames 2019_07_17 20_16_22.json\n"
     ]
    },
    {
     "name": "stdout",
     "output_type": "stream",
     "text": [
      "../data/input/mobilegames\\mobilegames 2019_07_17 20_16_18.json\n",
      "../data/input/mobilegames\\mobilegames 2019_07_17 20_16_15.json\n",
      "../data/input/mobilegames\\mobilegames 2019_07_17 20_16_11.json\n",
      "../data/input/mobilegames\\mobilegames 2019_07_17 20_16_08.json\n",
      "../data/input/mobilegames\\mobilegames 2019_07_17 20_16_04.json\n",
      "../data/input/mobilegames\\mobilegames 2019_07_17 20_16_01.json\n",
      "../data/input/mobilegames\\mobilegames 2019_07_17 20_15_57.json\n",
      "../data/input/mobilegames\\mobilegames 2019_07_17 20_15_53.json\n",
      "../data/input/mobilegames\\mobilegames 2019_07_17 20_15_50.json\n",
      "../data/input/mobilegames\\mobilegames 2019_07_17 20_15_46.json\n",
      "../data/input/mobilegames\\mobilegames 2019_07_17 20_15_42.json\n",
      "../data/input/mobilegames\\mobilegames 2019_07_17 20_15_39.json\n",
      "../data/input/mobilegames\\mobilegames 2019_07_17 20_15_35.json\n",
      "../data/input/mobilegames\\mobilegames 2019_07_17 20_15_32.json\n",
      "../data/input/mobilegames\\mobilegames 2019_07_17 20_15_28.json\n",
      "../data/input/mobilegames\\mobilegames 2019_07_17 20_15_24.json\n",
      "../data/input/mobilegames\\mobilegames 2019_07_17 20_15_21.json\n",
      "../data/input/mobilegames\\mobilegames 2019_07_17 20_15_17.json\n",
      "../data/input/mobilegames\\mobilegames 2019_07_17 20_15_14.json\n",
      "../data/input/mobilegames\\mobilegames 2019_07_17 20_15_10.json\n",
      "../data/input/mobilegames\\mobilegames 2019_07_17 20_15_07.json\n",
      "../data/input/mobilegames\\mobilegames 2019_07_17 20_15_03.json\n",
      "../data/input/mobilegames\\mobilegames 2019_07_17 20_14_58.json\n",
      "../data/input/mobilegames\\mobilegames 2019_07_17 20_14_54.json\n"
     ]
    }
   ],
   "source": [
    "# load json data from files (saved previously in input folder)\n",
    "\n",
    "if scape_data == False:\n",
    "    \n",
    "    posts_a = read_json_files(subreddits[0])\n",
    "    posts_b = read_json_files(subreddits[1])      "
   ]
  },
  {
   "cell_type": "code",
   "execution_count": 12,
   "metadata": {},
   "outputs": [
    {
     "name": "stdout",
     "output_type": "stream",
     "text": [
      "total number of posts: 2235\n",
      "unique number of posts: 1165\n",
      "\n",
      "total number of posts: 2204\n",
      "unique number of posts: 956\n"
     ]
    }
   ],
   "source": [
    "# posts count info\n",
    "\n",
    "if scape_data == False:\n",
    "    \n",
    "    total_posts_a = len(posts_a)\n",
    "    unique_posts_a = len(set(p['data']['name'] for p in posts_a))\n",
    "    total_posts_b = len(posts_b)\n",
    "    unique_post_b = len(set(p['data']['name'] for p in posts_b))\n",
    "    \n",
    "    print('total number of posts:',total_posts_a)\n",
    "    print('unique number of posts:',unique_posts_a)\n",
    "    print('')\n",
    "    print('total number of posts:',total_posts_b)\n",
    "    print('unique number of posts:',unique_post_b)"
   ]
  },
  {
   "cell_type": "markdown",
   "metadata": {},
   "source": [
    "### Inspect Data"
   ]
  },
  {
   "cell_type": "code",
   "execution_count": 13,
   "metadata": {},
   "outputs": [],
   "source": [
    "# print some info from posts_a (subreddit[0])\n",
    "\n",
    "# for p in posts_a:\n",
    "    \n",
    "#     title = p['data']['title']\n",
    "#     #subreddit = p['data']['subreddit']\n",
    "#     score = p['data']['score']\n",
    "#     pinned = p['data']['pinned'] \n",
    "    \n",
    "#     print(title)\n",
    "#     print(subreddit)\n",
    "#     print(score)\n",
    "#     print(pinned)\n",
    "#     print('')\n",
    "    \n",
    "#     keys = p['data'].keys()    \n",
    "#     print(len(keys))   "
   ]
  },
  {
   "cell_type": "code",
   "execution_count": 14,
   "metadata": {},
   "outputs": [],
   "source": [
    "# create empty df\n",
    "\n",
    "#cols = list(posts_a[0]['data'].keys())\n",
    "cols = ['name','title','score','selftext']\n",
    "\n",
    "df = pd.DataFrame(columns=cols)\n",
    "df_a = pd.DataFrame(columns=cols)\n",
    "df_b = pd.DataFrame(columns=cols)"
   ]
  },
  {
   "cell_type": "code",
   "execution_count": 15,
   "metadata": {},
   "outputs": [],
   "source": [
    "# convert posts to df\n",
    "\n",
    "df_a = create_df(posts_a,df_a)\n",
    "df_b = create_df(posts_b,df_b)"
   ]
  },
  {
   "cell_type": "code",
   "execution_count": 16,
   "metadata": {},
   "outputs": [],
   "source": [
    "# drop rows with empty selftext\n",
    "\n",
    "# need to check for empty string in selftext???\n",
    "if False:\n",
    "\n",
    "    print(len(df_a))\n",
    "    print(len(df_b))\n",
    "\n",
    "    df_a['selftext'].replace('',np.nan,inplace=True)\n",
    "    df_b['selftext'].replace('',np.nan,inplace=True)\n",
    "\n",
    "    df_a.dropna(subset=['selftext'],inplace=True)\n",
    "    df_b.dropna(subset=['selftext'],inplace=True)\n",
    "\n",
    "    print(len(df_a))\n",
    "    print(len(df_b))"
   ]
  },
  {
   "cell_type": "code",
   "execution_count": 17,
   "metadata": {},
   "outputs": [
    {
     "name": "stdout",
     "output_type": "stream",
     "text": [
      "2235\n",
      "2204\n",
      "1165\n",
      "956\n"
     ]
    }
   ],
   "source": [
    "# remove rows with duplicated name\n",
    "\n",
    "print(len(df_a))\n",
    "print(len(df_b))\n",
    "\n",
    "df_a.drop_duplicates(subset='name',inplace=True)\n",
    "df_b.drop_duplicates(subset='name',inplace=True)\n",
    "\n",
    "print(len(df_a))\n",
    "print(len(df_b))"
   ]
  },
  {
   "cell_type": "code",
   "execution_count": 18,
   "metadata": {},
   "outputs": [
    {
     "data": {
      "text/html": [
       "<div>\n",
       "<style scoped>\n",
       "    .dataframe tbody tr th:only-of-type {\n",
       "        vertical-align: middle;\n",
       "    }\n",
       "\n",
       "    .dataframe tbody tr th {\n",
       "        vertical-align: top;\n",
       "    }\n",
       "\n",
       "    .dataframe thead th {\n",
       "        text-align: right;\n",
       "    }\n",
       "</style>\n",
       "<table border=\"1\" class=\"dataframe\">\n",
       "  <thead>\n",
       "    <tr style=\"text-align: right;\">\n",
       "      <th></th>\n",
       "      <th>name</th>\n",
       "      <th>title</th>\n",
       "      <th>score</th>\n",
       "      <th>selftext</th>\n",
       "    </tr>\n",
       "  </thead>\n",
       "  <tbody>\n",
       "    <tr>\n",
       "      <th>0</th>\n",
       "      <td>t3_ccwwo2</td>\n",
       "      <td>What player mats look like after lamination</td>\n",
       "      <td>12</td>\n",
       "      <td>http://imgur.com/gallery/Ab1Q9CQ\\n\\nSearched t...</td>\n",
       "    </tr>\n",
       "    <tr>\n",
       "      <th>1</th>\n",
       "      <td>t3_ccppxz</td>\n",
       "      <td>Anyone playing in downtown Toronto?</td>\n",
       "      <td>69</td>\n",
       "      <td>I've built up a small game collection lately -...</td>\n",
       "    </tr>\n",
       "    <tr>\n",
       "      <th>2</th>\n",
       "      <td>t3_ccqzz1</td>\n",
       "      <td>I made an app to help run my PitchCar tourname...</td>\n",
       "      <td>46</td>\n",
       "      <td></td>\n",
       "    </tr>\n",
       "    <tr>\n",
       "      <th>3</th>\n",
       "      <td>t3_ccwwjl</td>\n",
       "      <td>Pandemic Legacy s1 *September spoilers*</td>\n",
       "      <td>8</td>\n",
       "      <td>Just want to make sure cause this seems weird....</td>\n",
       "    </tr>\n",
       "    <tr>\n",
       "      <th>4</th>\n",
       "      <td>t3_cctvi9</td>\n",
       "      <td>Rumbleslam is the best game I almost never hea...</td>\n",
       "      <td>17</td>\n",
       "      <td>https://imgur.com/a/tPFXI9B\\n\\nI think I gloss...</td>\n",
       "    </tr>\n",
       "  </tbody>\n",
       "</table>\n",
       "</div>"
      ],
      "text/plain": [
       "        name                                              title score  \\\n",
       "0  t3_ccwwo2        What player mats look like after lamination    12   \n",
       "1  t3_ccppxz                Anyone playing in downtown Toronto?    69   \n",
       "2  t3_ccqzz1  I made an app to help run my PitchCar tourname...    46   \n",
       "3  t3_ccwwjl            Pandemic Legacy s1 *September spoilers*     8   \n",
       "4  t3_cctvi9  Rumbleslam is the best game I almost never hea...    17   \n",
       "\n",
       "                                            selftext  \n",
       "0  http://imgur.com/gallery/Ab1Q9CQ\\n\\nSearched t...  \n",
       "1  I've built up a small game collection lately -...  \n",
       "2                                                     \n",
       "3  Just want to make sure cause this seems weird....  \n",
       "4  https://imgur.com/a/tPFXI9B\\n\\nI think I gloss...  "
      ]
     },
     "execution_count": 18,
     "metadata": {},
     "output_type": "execute_result"
    }
   ],
   "source": [
    "df_a.head()"
   ]
  },
  {
   "cell_type": "code",
   "execution_count": 19,
   "metadata": {},
   "outputs": [
    {
     "data": {
      "text/plain": [
       "495         0\n",
       "361         0\n",
       "944         0\n",
       "904         0\n",
       "138         0\n",
       "139         0\n",
       "639         0\n",
       "339         0\n",
       "640         0\n",
       "336         0\n",
       "777         0\n",
       "778         0\n",
       "709         0\n",
       "328         0\n",
       "162         0\n",
       "790         0\n",
       "642         0\n",
       "547         0\n",
       "634         0\n",
       "936         0\n",
       "1434        0\n",
       "368         0\n",
       "1444        0\n",
       "393         0\n",
       "1442        0\n",
       "391         0\n",
       "94          0\n",
       "97          0\n",
       "98          0\n",
       "551         0\n",
       "        ...  \n",
       "1352     4880\n",
       "276      5077\n",
       "236      5402\n",
       "798      5594\n",
       "52       5596\n",
       "396      5952\n",
       "522      6261\n",
       "323      6542\n",
       "506      6545\n",
       "420      7006\n",
       "605      7067\n",
       "1357     7215\n",
       "504      7566\n",
       "491      7586\n",
       "583      7773\n",
       "312      7928\n",
       "42       8129\n",
       "916      8507\n",
       "647      8771\n",
       "157      9212\n",
       "341     11174\n",
       "839     11663\n",
       "654     12309\n",
       "536     12548\n",
       "927     13138\n",
       "723     15055\n",
       "1273    19660\n",
       "55      21592\n",
       "741     24697\n",
       "430     32425\n",
       "Name: selftext, Length: 1165, dtype: int64"
      ]
     },
     "execution_count": 19,
     "metadata": {},
     "output_type": "execute_result"
    }
   ],
   "source": [
    "df_a['selftext'].apply(len).sort_values(ascending=True)"
   ]
  },
  {
   "cell_type": "code",
   "execution_count": 20,
   "metadata": {},
   "outputs": [
    {
     "name": "stdout",
     "output_type": "stream",
     "text": [
      "Index(['name', 'title', 'score', 'selftext'], dtype='object')\n"
     ]
    }
   ],
   "source": [
    "# list all columns\n",
    "\n",
    "print(df_a.columns)"
   ]
  },
  {
   "cell_type": "code",
   "execution_count": 21,
   "metadata": {},
   "outputs": [
    {
     "data": {
      "text/html": [
       "<div>\n",
       "<style scoped>\n",
       "    .dataframe tbody tr th:only-of-type {\n",
       "        vertical-align: middle;\n",
       "    }\n",
       "\n",
       "    .dataframe tbody tr th {\n",
       "        vertical-align: top;\n",
       "    }\n",
       "\n",
       "    .dataframe thead th {\n",
       "        text-align: right;\n",
       "    }\n",
       "</style>\n",
       "<table border=\"1\" class=\"dataframe\">\n",
       "  <thead>\n",
       "    <tr style=\"text-align: right;\">\n",
       "      <th></th>\n",
       "      <th>name</th>\n",
       "      <th>title</th>\n",
       "      <th>score</th>\n",
       "      <th>selftext</th>\n",
       "    </tr>\n",
       "  </thead>\n",
       "  <tbody>\n",
       "    <tr>\n",
       "      <th>0</th>\n",
       "      <td>t3_ccwwo2</td>\n",
       "      <td>What player mats look like after lamination</td>\n",
       "      <td>12</td>\n",
       "      <td>http://imgur.com/gallery/Ab1Q9CQ\\n\\nSearched t...</td>\n",
       "    </tr>\n",
       "    <tr>\n",
       "      <th>1</th>\n",
       "      <td>t3_ccppxz</td>\n",
       "      <td>Anyone playing in downtown Toronto?</td>\n",
       "      <td>69</td>\n",
       "      <td>I've built up a small game collection lately -...</td>\n",
       "    </tr>\n",
       "    <tr>\n",
       "      <th>2</th>\n",
       "      <td>t3_ccqzz1</td>\n",
       "      <td>I made an app to help run my PitchCar tourname...</td>\n",
       "      <td>46</td>\n",
       "      <td></td>\n",
       "    </tr>\n",
       "    <tr>\n",
       "      <th>3</th>\n",
       "      <td>t3_ccwwjl</td>\n",
       "      <td>Pandemic Legacy s1 *September spoilers*</td>\n",
       "      <td>8</td>\n",
       "      <td>Just want to make sure cause this seems weird....</td>\n",
       "    </tr>\n",
       "    <tr>\n",
       "      <th>4</th>\n",
       "      <td>t3_cctvi9</td>\n",
       "      <td>Rumbleslam is the best game I almost never hea...</td>\n",
       "      <td>17</td>\n",
       "      <td>https://imgur.com/a/tPFXI9B\\n\\nI think I gloss...</td>\n",
       "    </tr>\n",
       "  </tbody>\n",
       "</table>\n",
       "</div>"
      ],
      "text/plain": [
       "        name                                              title score  \\\n",
       "0  t3_ccwwo2        What player mats look like after lamination    12   \n",
       "1  t3_ccppxz                Anyone playing in downtown Toronto?    69   \n",
       "2  t3_ccqzz1  I made an app to help run my PitchCar tourname...    46   \n",
       "3  t3_ccwwjl            Pandemic Legacy s1 *September spoilers*     8   \n",
       "4  t3_cctvi9  Rumbleslam is the best game I almost never hea...    17   \n",
       "\n",
       "                                            selftext  \n",
       "0  http://imgur.com/gallery/Ab1Q9CQ\\n\\nSearched t...  \n",
       "1  I've built up a small game collection lately -...  \n",
       "2                                                     \n",
       "3  Just want to make sure cause this seems weird....  \n",
       "4  https://imgur.com/a/tPFXI9B\\n\\nI think I gloss...  "
      ]
     },
     "execution_count": 21,
     "metadata": {},
     "output_type": "execute_result"
    }
   ],
   "source": [
    "# output 1st 5 records\n",
    "\n",
    "df_a.head()"
   ]
  },
  {
   "cell_type": "code",
   "execution_count": 22,
   "metadata": {},
   "outputs": [
    {
     "data": {
      "text/html": [
       "<div>\n",
       "<style scoped>\n",
       "    .dataframe tbody tr th:only-of-type {\n",
       "        vertical-align: middle;\n",
       "    }\n",
       "\n",
       "    .dataframe tbody tr th {\n",
       "        vertical-align: top;\n",
       "    }\n",
       "\n",
       "    .dataframe thead th {\n",
       "        text-align: right;\n",
       "    }\n",
       "</style>\n",
       "<table border=\"1\" class=\"dataframe\">\n",
       "  <thead>\n",
       "    <tr style=\"text-align: right;\">\n",
       "      <th></th>\n",
       "      <th>name</th>\n",
       "      <th>title</th>\n",
       "      <th>score</th>\n",
       "      <th>selftext</th>\n",
       "    </tr>\n",
       "  </thead>\n",
       "  <tbody>\n",
       "    <tr>\n",
       "      <th>count</th>\n",
       "      <td>1165</td>\n",
       "      <td>1165</td>\n",
       "      <td>1165</td>\n",
       "      <td>1165</td>\n",
       "    </tr>\n",
       "    <tr>\n",
       "      <th>unique</th>\n",
       "      <td>1165</td>\n",
       "      <td>1165</td>\n",
       "      <td>202</td>\n",
       "      <td>987</td>\n",
       "    </tr>\n",
       "    <tr>\n",
       "      <th>top</th>\n",
       "      <td>t3_c5po6g</td>\n",
       "      <td>Does the player going second in Othello have a...</td>\n",
       "      <td>0</td>\n",
       "      <td></td>\n",
       "    </tr>\n",
       "    <tr>\n",
       "      <th>freq</th>\n",
       "      <td>1</td>\n",
       "      <td>1</td>\n",
       "      <td>76</td>\n",
       "      <td>137</td>\n",
       "    </tr>\n",
       "  </tbody>\n",
       "</table>\n",
       "</div>"
      ],
      "text/plain": [
       "             name                                              title  score  \\\n",
       "count        1165                                               1165   1165   \n",
       "unique       1165                                               1165    202   \n",
       "top     t3_c5po6g  Does the player going second in Othello have a...      0   \n",
       "freq            1                                                  1     76   \n",
       "\n",
       "       selftext  \n",
       "count      1165  \n",
       "unique      987  \n",
       "top              \n",
       "freq        137  "
      ]
     },
     "execution_count": 22,
     "metadata": {},
     "output_type": "execute_result"
    }
   ],
   "source": [
    "# df_a summary\n",
    "\n",
    "df_a_desc = df_a.describe()\n",
    "df_a_desc"
   ]
  },
  {
   "cell_type": "code",
   "execution_count": 23,
   "metadata": {},
   "outputs": [
    {
     "data": {
      "text/plain": [
       "Series([], dtype: int64)"
      ]
     },
     "execution_count": 23,
     "metadata": {},
     "output_type": "execute_result"
    }
   ],
   "source": [
    "# Check for nulls in columns\n",
    "\n",
    "null_cols = df_a.isnull().sum()\n",
    "mask_null = null_cols > 0\n",
    "null_cols[mask_null].sort_values(ascending=False)"
   ]
  },
  {
   "cell_type": "code",
   "execution_count": 24,
   "metadata": {},
   "outputs": [
    {
     "data": {
      "text/plain": [
       "Series([], dtype: int64)"
      ]
     },
     "execution_count": 24,
     "metadata": {},
     "output_type": "execute_result"
    }
   ],
   "source": [
    "# Check for nulls in rows\n",
    "\n",
    "null_rows = df_a.isnull().sum(axis=1)\n",
    "mask_null = null_rows > 0\n",
    "null_rows[mask_null].sort_values(ascending=False)"
   ]
  },
  {
   "cell_type": "code",
   "execution_count": 25,
   "metadata": {},
   "outputs": [
    {
     "name": "stdout",
     "output_type": "stream",
     "text": [
      "<class 'pandas.core.frame.DataFrame'>\n",
      "Int64Index: 1165 entries, 0 to 2178\n",
      "Data columns (total 4 columns):\n",
      "name        1165 non-null object\n",
      "title       1165 non-null object\n",
      "score       1165 non-null object\n",
      "selftext    1165 non-null object\n",
      "dtypes: object(4)\n",
      "memory usage: 45.5+ KB\n"
     ]
    }
   ],
   "source": [
    "# show column summary\n",
    "\n",
    "df_a_info = df_a.info()\n",
    "df_a_info"
   ]
  },
  {
   "cell_type": "code",
   "execution_count": 26,
   "metadata": {},
   "outputs": [],
   "source": [
    "# limit no of rows in each df\n",
    "\n",
    "df_a = df_a[:posts_limit]\n",
    "df_b = df_b[:posts_limit]"
   ]
  },
  {
   "cell_type": "markdown",
   "metadata": {},
   "source": [
    "### Clean Data"
   ]
  },
  {
   "cell_type": "code",
   "execution_count": 27,
   "metadata": {},
   "outputs": [],
   "source": [
    "# rename columns"
   ]
  },
  {
   "cell_type": "code",
   "execution_count": 28,
   "metadata": {},
   "outputs": [],
   "source": [
    "# convert all string in cells to lowercase -> prevent duplicates when creating dummies\n",
    "\n",
    "#df_train = df_train.applymap(lambda s:s.lower() if type(s) == str else s)\n",
    "#df_test = df_test.applymap(lambda s:s.lower() if type(s) == str else s)"
   ]
  },
  {
   "cell_type": "code",
   "execution_count": 29,
   "metadata": {},
   "outputs": [],
   "source": [
    "# fill nan/empty cells with na\n",
    "\n",
    "#cols = ['pool_qual','bsmt_qual','fireplace_score','garage_qual','garage_cond','bsmt_type1_score','bsmt_type2_score']\n",
    "\n",
    "#for col in cols:\n",
    "    #df_train[col] = df_train[col].fillna(value='na')\n",
    "    #df_test[col] = df_test[col].fillna(value='na')"
   ]
  },
  {
   "cell_type": "code",
   "execution_count": 30,
   "metadata": {},
   "outputs": [],
   "source": [
    "# # fill nan/empty cells with 0\n",
    "\n",
    "# cols = ['bath_half_bsmt_num','bath_full_bsmt_num','garage_area','garage_car_num','bsmt_total_area',\n",
    "#         'bsmt_unfinish_area','bsmt_type2_area','bsmt_type1_area']\n",
    "\n",
    "# for col in cols:\n",
    "#     df_train[col] = df_train[col].fillna(value='0')\n",
    "#     df_test[col] = df_test[col].fillna(value='0')"
   ]
  },
  {
   "cell_type": "markdown",
   "metadata": {},
   "source": [
    "### Output Clean Data"
   ]
  },
  {
   "cell_type": "code",
   "execution_count": 31,
   "metadata": {},
   "outputs": [],
   "source": [
    "# output to csv\n",
    "\n",
    "#df_a.to_csv(mid_path + 'df_a.csv')"
   ]
  },
  {
   "cell_type": "markdown",
   "metadata": {},
   "source": [
    "### EDA"
   ]
  },
  {
   "cell_type": "code",
   "execution_count": 32,
   "metadata": {},
   "outputs": [
    {
     "name": "stdout",
     "output_type": "stream",
     "text": [
      "2111\n"
     ]
    },
    {
     "data": {
      "text/plain": [
       "game               249\n",
       "board              114\n",
       "games               94\n",
       "2019                55\n",
       "play                41\n",
       "question            40\n",
       "july                38\n",
       "help                31\n",
       "new                 31\n",
       "card                30\n",
       "boardgames          29\n",
       "discussion          25\n",
       "kickstarter         25\n",
       "player              25\n",
       "table               23\n",
       "recommendations     22\n",
       "best                22\n",
       "review              21\n",
       "comc                21\n",
       "daily               21\n",
       "dtype: int64"
      ]
     },
     "execution_count": 32,
     "metadata": {},
     "output_type": "execute_result"
    }
   ],
   "source": [
    "cvec = CountVectorizer(stop_words='english')\n",
    "cvec.fit(df_a[features])\n",
    "\n",
    "len_features = len(cvec.get_feature_names())\n",
    "print(len_features)\n",
    "\n",
    "df_a_cv = pd.DataFrame(cvec.transform(df_a[features]).todense(),columns=cvec.get_feature_names())\n",
    "\n",
    "top_a = df_a_cv.sum(axis=0)\n",
    "top_a.sort_values(ascending = False).head(20)"
   ]
  },
  {
   "cell_type": "code",
   "execution_count": 33,
   "metadata": {},
   "outputs": [
    {
     "name": "stdout",
     "output_type": "stream",
     "text": [
      "1933\n"
     ]
    },
    {
     "data": {
      "text/plain": [
       "game        334\n",
       "mobile      204\n",
       "games       103\n",
       "android     101\n",
       "new          73\n",
       "ios          65\n",
       "play         63\n",
       "gameplay     52\n",
       "like         39\n",
       "looking      38\n",
       "best         36\n",
       "good         35\n",
       "free         28\n",
       "help         26\n",
       "2018         24\n",
       "amp          22\n",
       "look         22\n",
       "heroes       20\n",
       "review       20\n",
       "pubg         20\n",
       "dtype: int64"
      ]
     },
     "execution_count": 33,
     "metadata": {},
     "output_type": "execute_result"
    }
   ],
   "source": [
    "cvec = CountVectorizer(stop_words='english')\n",
    "cvec.fit(df_b[features])\n",
    "\n",
    "len_features = len(cvec.get_feature_names())\n",
    "print(len_features)\n",
    "\n",
    "df_b_cv = pd.DataFrame(cvec.transform(df_b[features]).todense(),columns=cvec.get_feature_names())\n",
    "\n",
    "top_b = df_b_cv.sum(axis=0)\n",
    "top_b.sort_values(ascending = False).head(20)"
   ]
  },
  {
   "cell_type": "code",
   "execution_count": 34,
   "metadata": {},
   "outputs": [
    {
     "data": {
      "text/html": [
       "<div>\n",
       "<style scoped>\n",
       "    .dataframe tbody tr th:only-of-type {\n",
       "        vertical-align: middle;\n",
       "    }\n",
       "\n",
       "    .dataframe tbody tr th {\n",
       "        vertical-align: top;\n",
       "    }\n",
       "\n",
       "    .dataframe thead th {\n",
       "        text-align: right;\n",
       "    }\n",
       "</style>\n",
       "<table border=\"1\" class=\"dataframe\">\n",
       "  <thead>\n",
       "    <tr style=\"text-align: right;\">\n",
       "      <th></th>\n",
       "      <th>word</th>\n",
       "      <th>count</th>\n",
       "      <th>freq</th>\n",
       "    </tr>\n",
       "  </thead>\n",
       "  <tbody>\n",
       "    <tr>\n",
       "      <th>799</th>\n",
       "      <td>game</td>\n",
       "      <td>249</td>\n",
       "      <td>27.666667</td>\n",
       "    </tr>\n",
       "    <tr>\n",
       "      <th>247</th>\n",
       "      <td>board</td>\n",
       "      <td>114</td>\n",
       "      <td>12.666667</td>\n",
       "    </tr>\n",
       "    <tr>\n",
       "      <th>805</th>\n",
       "      <td>games</td>\n",
       "      <td>94</td>\n",
       "      <td>10.444444</td>\n",
       "    </tr>\n",
       "    <tr>\n",
       "      <th>35</th>\n",
       "      <td>2019</td>\n",
       "      <td>55</td>\n",
       "      <td>6.111111</td>\n",
       "    </tr>\n",
       "    <tr>\n",
       "      <th>1364</th>\n",
       "      <td>play</td>\n",
       "      <td>41</td>\n",
       "      <td>4.555556</td>\n",
       "    </tr>\n",
       "    <tr>\n",
       "      <th>1478</th>\n",
       "      <td>question</td>\n",
       "      <td>40</td>\n",
       "      <td>4.444444</td>\n",
       "    </tr>\n",
       "    <tr>\n",
       "      <th>1008</th>\n",
       "      <td>july</td>\n",
       "      <td>38</td>\n",
       "      <td>4.222222</td>\n",
       "    </tr>\n",
       "    <tr>\n",
       "      <th>877</th>\n",
       "      <td>help</td>\n",
       "      <td>31</td>\n",
       "      <td>3.444444</td>\n",
       "    </tr>\n",
       "    <tr>\n",
       "      <th>1237</th>\n",
       "      <td>new</td>\n",
       "      <td>31</td>\n",
       "      <td>3.444444</td>\n",
       "    </tr>\n",
       "    <tr>\n",
       "      <th>319</th>\n",
       "      <td>card</td>\n",
       "      <td>30</td>\n",
       "      <td>3.333333</td>\n",
       "    </tr>\n",
       "  </tbody>\n",
       "</table>\n",
       "</div>"
      ],
      "text/plain": [
       "          word  count       freq\n",
       "799       game    249  27.666667\n",
       "247      board    114  12.666667\n",
       "805      games     94  10.444444\n",
       "35        2019     55   6.111111\n",
       "1364      play     41   4.555556\n",
       "1478  question     40   4.444444\n",
       "1008      july     38   4.222222\n",
       "877       help     31   3.444444\n",
       "1237       new     31   3.444444\n",
       "319       card     30   3.333333"
      ]
     },
     "execution_count": 34,
     "metadata": {},
     "output_type": "execute_result"
    }
   ],
   "source": [
    "# get top words in df_a\n",
    "\n",
    "df_top_a = top_a.to_frame(name='count')\n",
    "df_top_a['word'] = df_top_a.index\n",
    "df_top_a.reset_index(drop=True, inplace=True)\n",
    "df_top_a['freq'] = df_top_a['count'] / len(df_a) * 100\n",
    "\n",
    "cols = ['word','count','freq']\n",
    "df_top_a = df_top_a[cols]\n",
    "df_top_a.sort_values(by='count',ascending=False, inplace=True)\n",
    "df_top_a.head(10)"
   ]
  },
  {
   "cell_type": "code",
   "execution_count": 35,
   "metadata": {},
   "outputs": [
    {
     "data": {
      "text/html": [
       "<div>\n",
       "<style scoped>\n",
       "    .dataframe tbody tr th:only-of-type {\n",
       "        vertical-align: middle;\n",
       "    }\n",
       "\n",
       "    .dataframe tbody tr th {\n",
       "        vertical-align: top;\n",
       "    }\n",
       "\n",
       "    .dataframe thead th {\n",
       "        text-align: right;\n",
       "    }\n",
       "</style>\n",
       "<table border=\"1\" class=\"dataframe\">\n",
       "  <thead>\n",
       "    <tr style=\"text-align: right;\">\n",
       "      <th></th>\n",
       "      <th>word</th>\n",
       "      <th>count</th>\n",
       "      <th>freq</th>\n",
       "    </tr>\n",
       "  </thead>\n",
       "  <tbody>\n",
       "    <tr>\n",
       "      <th>708</th>\n",
       "      <td>game</td>\n",
       "      <td>334</td>\n",
       "      <td>37.111111</td>\n",
       "    </tr>\n",
       "    <tr>\n",
       "      <th>1116</th>\n",
       "      <td>mobile</td>\n",
       "      <td>204</td>\n",
       "      <td>22.666667</td>\n",
       "    </tr>\n",
       "    <tr>\n",
       "      <th>714</th>\n",
       "      <td>games</td>\n",
       "      <td>103</td>\n",
       "      <td>11.444444</td>\n",
       "    </tr>\n",
       "    <tr>\n",
       "      <th>96</th>\n",
       "      <td>android</td>\n",
       "      <td>101</td>\n",
       "      <td>11.222222</td>\n",
       "    </tr>\n",
       "    <tr>\n",
       "      <th>1166</th>\n",
       "      <td>new</td>\n",
       "      <td>73</td>\n",
       "      <td>8.111111</td>\n",
       "    </tr>\n",
       "    <tr>\n",
       "      <th>918</th>\n",
       "      <td>ios</td>\n",
       "      <td>65</td>\n",
       "      <td>7.222222</td>\n",
       "    </tr>\n",
       "    <tr>\n",
       "      <th>1277</th>\n",
       "      <td>play</td>\n",
       "      <td>63</td>\n",
       "      <td>7.000000</td>\n",
       "    </tr>\n",
       "    <tr>\n",
       "      <th>711</th>\n",
       "      <td>gameplay</td>\n",
       "      <td>52</td>\n",
       "      <td>5.777778</td>\n",
       "    </tr>\n",
       "    <tr>\n",
       "      <th>1001</th>\n",
       "      <td>like</td>\n",
       "      <td>39</td>\n",
       "      <td>4.333333</td>\n",
       "    </tr>\n",
       "    <tr>\n",
       "      <th>1022</th>\n",
       "      <td>looking</td>\n",
       "      <td>38</td>\n",
       "      <td>4.222222</td>\n",
       "    </tr>\n",
       "  </tbody>\n",
       "</table>\n",
       "</div>"
      ],
      "text/plain": [
       "          word  count       freq\n",
       "708       game    334  37.111111\n",
       "1116    mobile    204  22.666667\n",
       "714      games    103  11.444444\n",
       "96     android    101  11.222222\n",
       "1166       new     73   8.111111\n",
       "918        ios     65   7.222222\n",
       "1277      play     63   7.000000\n",
       "711   gameplay     52   5.777778\n",
       "1001      like     39   4.333333\n",
       "1022   looking     38   4.222222"
      ]
     },
     "execution_count": 35,
     "metadata": {},
     "output_type": "execute_result"
    }
   ],
   "source": [
    "# get top words in df_b\n",
    "\n",
    "df_top_b = top_b.to_frame(name='count')\n",
    "df_top_b['word'] = df_top_b.index\n",
    "df_top_b.reset_index(drop=True, inplace=True)\n",
    "df_top_b['freq'] = df_top_b['count'] / len(df_b) * 100\n",
    "\n",
    "cols = ['word','count','freq']\n",
    "df_top_b = df_top_b[cols]\n",
    "df_top_b.sort_values(by='count',ascending=False, inplace=True)\n",
    "df_top_b.head(10)"
   ]
  },
  {
   "cell_type": "code",
   "execution_count": 36,
   "metadata": {},
   "outputs": [
    {
     "data": {
      "image/png": "[encoded data removed]",
      "text/plain": [
       "<Figure size 1440x720 with 1 Axes>"
      ]
     },
     "metadata": {
      "needs_background": "light"
     },
     "output_type": "display_data"
    }
   ],
   "source": [
    "plt.figure(figsize=(20,10))\n",
    "plt.title('Board Games: Top 20 Words',fontsize=25)\n",
    "\n",
    "sns.set_style(\"whitegrid\")\n",
    "sns.barplot(data=df_top_a.head(20),x='freq',y='word',orient='h')\n",
    "\n",
    "plt.xlabel('frequency (%)',fontsize=20)\n",
    "plt.ylabel('word',fontsize=20)\n",
    "plt.tick_params(labelsize=15)\n",
    "\n",
    "#boardgames Daily Discussion and Game Recommendations (July 17, 2019)'"
   ]
  },
  {
   "cell_type": "code",
   "execution_count": 37,
   "metadata": {},
   "outputs": [
    {
     "data": {
      "text/plain": [
       "'\\nHey guys! We are a husband &amp; wife game dev team &amp; we are weeks away from launching our first game! \\nWe cant wait to share our journey with you! \\nGame will be for android and ios! \\nIts an arcade style maze runner game and it is so fun! \\n(Not to toot our own horn but - toot toot)\\n'"
      ]
     },
     "execution_count": 37,
     "metadata": {},
     "output_type": "execute_result"
    },
    {
     "data": {
      "image/png": "[encoded data removed]",
      "text/plain": [
       "<Figure size 1440x720 with 1 Axes>"
      ]
     },
     "metadata": {},
     "output_type": "display_data"
    }
   ],
   "source": [
    "plt.figure(figsize=(20,10))\n",
    "plt.title('Mobile Games: Top 20 Words',fontsize=25)\n",
    "\n",
    "sns.set_style(\"whitegrid\")\n",
    "sns.barplot(data=df_top_b.head(20),x='freq',y='word',orient='h')\n",
    "\n",
    "plt.xlabel('frequency (%)',fontsize=20)\n",
    "plt.ylabel('word',fontsize=20)\n",
    "plt.tick_params(labelsize=15)\n",
    "\n",
    "'''\n",
    "Hey guys! We are a husband &amp; wife game dev team &amp; we are weeks away from launching our first game! \n",
    "We cant wait to share our journey with you! \n",
    "Game will be for android and ios! \n",
    "Its an arcade style maze runner game and it is so fun! \n",
    "(Not to toot our own horn but - toot toot)\n",
    "'''"
   ]
  },
  {
   "cell_type": "code",
   "execution_count": 38,
   "metadata": {},
   "outputs": [
    {
     "data": {
      "image/png": "[encoded data removed]",
      "text/plain": [
       "<Figure size 720x720 with 1 Axes>"
      ]
     },
     "metadata": {},
     "output_type": "display_data"
    }
   ],
   "source": [
    "plt.figure(figsize=(10,10))\n",
    "plt.title('Word Comparsion',fontsize=25)\n",
    "\n",
    "set_a = set(df_top_a['word'][:20])\n",
    "set_b = set(df_top_b['word'][:20])\n",
    "\n",
    "venn = venn2([set_a,set_b],set_labels=['Board Games','Mobile Games'])\n",
    "\n",
    "venn.get_label_by_id('100').set_text('\\n'.join(map(str,set_a-set_b)))\n",
    "venn.get_label_by_id('110').set_text('\\n'.join(map(str,set_a&set_b)))\n",
    "venn.get_label_by_id('010').set_text('\\n'.join(map(str,set_b-set_a)))\n",
    "\n",
    "venn.get_label_by_id('A').set_size(20)\n",
    "venn.get_label_by_id('B').set_size(20)\n",
    "venn.get_label_by_id('100').set_size(15)\n",
    "venn.get_label_by_id('110').set_size(15)\n",
    "venn.get_label_by_id('010').set_size(15)"
   ]
  },
  {
   "cell_type": "markdown",
   "metadata": {},
   "source": [
    "### Logistic Regression Model"
   ]
  },
  {
   "cell_type": "code",
   "execution_count": 39,
   "metadata": {},
   "outputs": [
    {
     "data": {
      "text/html": [
       "<div>\n",
       "<style scoped>\n",
       "    .dataframe tbody tr th:only-of-type {\n",
       "        vertical-align: middle;\n",
       "    }\n",
       "\n",
       "    .dataframe tbody tr th {\n",
       "        vertical-align: top;\n",
       "    }\n",
       "\n",
       "    .dataframe thead th {\n",
       "        text-align: right;\n",
       "    }\n",
       "</style>\n",
       "<table border=\"1\" class=\"dataframe\">\n",
       "  <thead>\n",
       "    <tr style=\"text-align: right;\">\n",
       "      <th></th>\n",
       "      <th>name</th>\n",
       "      <th>title</th>\n",
       "      <th>score</th>\n",
       "      <th>selftext</th>\n",
       "    </tr>\n",
       "  </thead>\n",
       "  <tbody>\n",
       "    <tr>\n",
       "      <th>0</th>\n",
       "      <td>t3_ccwwo2</td>\n",
       "      <td>What player mats look like after lamination</td>\n",
       "      <td>12</td>\n",
       "      <td>http://imgur.com/gallery/Ab1Q9CQ\\n\\nSearched t...</td>\n",
       "    </tr>\n",
       "    <tr>\n",
       "      <th>1</th>\n",
       "      <td>t3_ccppxz</td>\n",
       "      <td>Anyone playing in downtown Toronto?</td>\n",
       "      <td>69</td>\n",
       "      <td>I've built up a small game collection lately -...</td>\n",
       "    </tr>\n",
       "    <tr>\n",
       "      <th>2</th>\n",
       "      <td>t3_ccqzz1</td>\n",
       "      <td>I made an app to help run my PitchCar tourname...</td>\n",
       "      <td>46</td>\n",
       "      <td></td>\n",
       "    </tr>\n",
       "    <tr>\n",
       "      <th>3</th>\n",
       "      <td>t3_ccwwjl</td>\n",
       "      <td>Pandemic Legacy s1 *September spoilers*</td>\n",
       "      <td>8</td>\n",
       "      <td>Just want to make sure cause this seems weird....</td>\n",
       "    </tr>\n",
       "    <tr>\n",
       "      <th>4</th>\n",
       "      <td>t3_cctvi9</td>\n",
       "      <td>Rumbleslam is the best game I almost never hea...</td>\n",
       "      <td>17</td>\n",
       "      <td>https://imgur.com/a/tPFXI9B\\n\\nI think I gloss...</td>\n",
       "    </tr>\n",
       "  </tbody>\n",
       "</table>\n",
       "</div>"
      ],
      "text/plain": [
       "        name                                              title score  \\\n",
       "0  t3_ccwwo2        What player mats look like after lamination    12   \n",
       "1  t3_ccppxz                Anyone playing in downtown Toronto?    69   \n",
       "2  t3_ccqzz1  I made an app to help run my PitchCar tourname...    46   \n",
       "3  t3_ccwwjl            Pandemic Legacy s1 *September spoilers*     8   \n",
       "4  t3_cctvi9  Rumbleslam is the best game I almost never hea...    17   \n",
       "\n",
       "                                            selftext  \n",
       "0  http://imgur.com/gallery/Ab1Q9CQ\\n\\nSearched t...  \n",
       "1  I've built up a small game collection lately -...  \n",
       "2                                                     \n",
       "3  Just want to make sure cause this seems weird....  \n",
       "4  https://imgur.com/a/tPFXI9B\\n\\nI think I gloss...  "
      ]
     },
     "execution_count": 39,
     "metadata": {},
     "output_type": "execute_result"
    }
   ],
   "source": [
    "df_a.head()"
   ]
  },
  {
   "cell_type": "code",
   "execution_count": 40,
   "metadata": {},
   "outputs": [
    {
     "data": {
      "text/html": [
       "<div>\n",
       "<style scoped>\n",
       "    .dataframe tbody tr th:only-of-type {\n",
       "        vertical-align: middle;\n",
       "    }\n",
       "\n",
       "    .dataframe tbody tr th {\n",
       "        vertical-align: top;\n",
       "    }\n",
       "\n",
       "    .dataframe thead th {\n",
       "        text-align: right;\n",
       "    }\n",
       "</style>\n",
       "<table border=\"1\" class=\"dataframe\">\n",
       "  <thead>\n",
       "    <tr style=\"text-align: right;\">\n",
       "      <th></th>\n",
       "      <th>name</th>\n",
       "      <th>title</th>\n",
       "      <th>score</th>\n",
       "      <th>selftext</th>\n",
       "    </tr>\n",
       "  </thead>\n",
       "  <tbody>\n",
       "    <tr>\n",
       "      <th>0</th>\n",
       "      <td>t3_bbdq7o</td>\n",
       "      <td>Age Of Z, recruiting</td>\n",
       "      <td>1</td>\n",
       "      <td>I'm looking for players who play the game age ...</td>\n",
       "    </tr>\n",
       "    <tr>\n",
       "      <th>1</th>\n",
       "      <td>t3_bbb1np</td>\n",
       "      <td>There was a java game...</td>\n",
       "      <td>1</td>\n",
       "      <td>I remember playing an old game on my nokia, ab...</td>\n",
       "    </tr>\n",
       "    <tr>\n",
       "      <th>2</th>\n",
       "      <td>t3_bb4yj9</td>\n",
       "      <td>Mmorpg?</td>\n",
       "      <td>1</td>\n",
       "      <td>Hi guys! Can you suggest some mobile mmorpg? S...</td>\n",
       "    </tr>\n",
       "    <tr>\n",
       "      <th>3</th>\n",
       "      <td>t3_bar748</td>\n",
       "      <td>The worst mobile game ad I have ever seen</td>\n",
       "      <td>1</td>\n",
       "      <td></td>\n",
       "    </tr>\n",
       "    <tr>\n",
       "      <th>4</th>\n",
       "      <td>t3_baqg2e</td>\n",
       "      <td>Searching for games to be transplanted from st...</td>\n",
       "      <td>1</td>\n",
       "      <td>Hi, I am a steam game player with more than 30...</td>\n",
       "    </tr>\n",
       "  </tbody>\n",
       "</table>\n",
       "</div>"
      ],
      "text/plain": [
       "        name                                              title score  \\\n",
       "0  t3_bbdq7o                               Age Of Z, recruiting     1   \n",
       "1  t3_bbb1np                           There was a java game...     1   \n",
       "2  t3_bb4yj9                                            Mmorpg?     1   \n",
       "3  t3_bar748          The worst mobile game ad I have ever seen     1   \n",
       "4  t3_baqg2e  Searching for games to be transplanted from st...     1   \n",
       "\n",
       "                                            selftext  \n",
       "0  I'm looking for players who play the game age ...  \n",
       "1  I remember playing an old game on my nokia, ab...  \n",
       "2  Hi guys! Can you suggest some mobile mmorpg? S...  \n",
       "3                                                     \n",
       "4  Hi, I am a steam game player with more than 30...  "
      ]
     },
     "execution_count": 40,
     "metadata": {},
     "output_type": "execute_result"
    }
   ],
   "source": [
    "df_b.head()"
   ]
  },
  {
   "cell_type": "code",
   "execution_count": 41,
   "metadata": {},
   "outputs": [],
   "source": [
    "# create df by appending df_a and df_b\n",
    "\n",
    "df = df.append(df_a)\n",
    "df = df.append(df_b)\n",
    "\n",
    "df.reset_index(drop=True,inplace=True)"
   ]
  },
  {
   "cell_type": "code",
   "execution_count": 42,
   "metadata": {},
   "outputs": [
    {
     "name": "stderr",
     "output_type": "stream",
     "text": [
      "C:\\ProgramData\\Anaconda3\\lib\\site-packages\\pandas\\core\\indexing.py:190: SettingWithCopyWarning: \n",
      "A value is trying to be set on a copy of a slice from a DataFrame\n",
      "\n",
      "See the caveats in the documentation: http://pandas.pydata.org/pandas-docs/stable/indexing.html#indexing-view-versus-copy\n",
      "  self._setitem_with_indexer(indexer, value)\n"
     ]
    }
   ],
   "source": [
    "# create target (use one hot encoding)\n",
    "\n",
    "df['is_a'] = 0\n",
    "df['is_a'].iloc[0:len(df_a)] = 1"
   ]
  },
  {
   "cell_type": "code",
   "execution_count": 43,
   "metadata": {},
   "outputs": [],
   "source": [
    "# create X (feature matrix) and y (target)\n",
    "\n",
    "X = df[[features]]\n",
    "#X = pd.DataFrame(columns=[features])\n",
    "#X[features] = df[features]\n",
    "\n",
    "y = df['is_a'].values"
   ]
  },
  {
   "cell_type": "code",
   "execution_count": 44,
   "metadata": {},
   "outputs": [],
   "source": [
    "# init WordNetLemmatizer and stopword\n",
    "# apply lemmatization on feature selected\n",
    "\n",
    "if True:\n",
    "\n",
    "    wnl = WordNetLemmatizer()\n",
    "    ps = PorterStemmer()\n",
    "    #stopword = set(stopwords.words('english'))    \n",
    "\n",
    "    for idx,row in X.iterrows():\n",
    "        words = re.sub('[^a-zA-Z]',' ',row[features])\n",
    "        words = words.split()\n",
    "\n",
    "        words_2 = []\n",
    "\n",
    "        for word in words:\n",
    "\n",
    "            word_2 = word.lower()  \n",
    "\n",
    "            #if word_2 not in stopword:\n",
    "\n",
    "            word_2 = ps.stem(word) \n",
    "            #word_2 = wnl.lemmatize(word_2, pos=\"v\")\n",
    "            words_2.append(word_2)\n",
    "\n",
    "        output = ' '.join(words_2)\n",
    "\n",
    "        X.at[idx,features] = output    "
   ]
  },
  {
   "cell_type": "code",
   "execution_count": 45,
   "metadata": {},
   "outputs": [],
   "source": [
    "X_train,X_test,y_train,y_test = train_test_split(X,y,train_size=0.7,test_size=0.3,stratify=y,random_state=3050)"
   ]
  },
  {
   "cell_type": "code",
   "execution_count": 46,
   "metadata": {},
   "outputs": [
    {
     "name": "stdout",
     "output_type": "stream",
     "text": [
      "(1260, 1)\n",
      "(540, 1)\n",
      "(1260,)\n",
      "(540,)\n"
     ]
    }
   ],
   "source": [
    "# check train and test data\n",
    "\n",
    "print(X_train.shape)\n",
    "print(X_test.shape)\n",
    "print(y_train.shape)\n",
    "print(y_test.shape)"
   ]
  },
  {
   "cell_type": "code",
   "execution_count": 47,
   "metadata": {},
   "outputs": [
    {
     "name": "stdout",
     "output_type": "stream",
     "text": [
      "2266\n"
     ]
    }
   ],
   "source": [
    "# use CountVectorizer\n",
    "\n",
    "cvec = CountVectorizer(stop_words='english')\n",
    "cvec.fit(X_train[features])\n",
    "\n",
    "len_features = len(cvec.get_feature_names())\n",
    "print(len_features)\n",
    "\n",
    "X_train_cv = pd.DataFrame(cvec.transform(X_train[features]).todense(),columns=cvec.get_feature_names())\n",
    "X_test_cv = pd.DataFrame(cvec.transform(X_test[features]).todense(),columns=cvec.get_feature_names())"
   ]
  },
  {
   "cell_type": "code",
   "execution_count": 48,
   "metadata": {},
   "outputs": [
    {
     "name": "stdout",
     "output_type": "stream",
     "text": [
      "0.8555555555555555\n"
     ]
    },
    {
     "name": "stderr",
     "output_type": "stream",
     "text": [
      "C:\\ProgramData\\Anaconda3\\lib\\site-packages\\sklearn\\linear_model\\logistic.py:433: FutureWarning: Default solver will be changed to 'lbfgs' in 0.22. Specify a solver to silence this warning.\n",
      "  FutureWarning)\n"
     ]
    }
   ],
   "source": [
    "# use LogisticRegression\n",
    "\n",
    "lr = LogisticRegression()\n",
    "lr.fit(X_train_cv,y_train)\n",
    "\n",
    "lr_score = lr.score(X_test_cv, y_test)\n",
    "print(lr_score)"
   ]
  },
  {
   "cell_type": "markdown",
   "metadata": {},
   "source": [
    "### Bayes Classifer"
   ]
  },
  {
   "cell_type": "code",
   "execution_count": 49,
   "metadata": {},
   "outputs": [],
   "source": [
    "# create MultinomialNB model\n",
    "mnb = MultinomialNB()\n",
    "\n",
    "mnb.fit(X_train_cv,y_train)\n",
    "y_pred = mnb.predict(X_test_cv)"
   ]
  },
  {
   "cell_type": "code",
   "execution_count": 50,
   "metadata": {},
   "outputs": [
    {
     "name": "stdout",
     "output_type": "stream",
     "text": [
      "0.9619047619047619\n",
      "0.8777777777777778\n"
     ]
    }
   ],
   "source": [
    "# score MultinomialNB model\n",
    "\n",
    "train_score = mnb.score(X_train_cv,y_train)\n",
    "print(train_score)\n",
    "\n",
    "test_score = mnb.score(X_test_cv,y_test)\n",
    "print(test_score)"
   ]
  },
  {
   "cell_type": "code",
   "execution_count": 51,
   "metadata": {},
   "outputs": [
    {
     "name": "stdout",
     "output_type": "stream",
     "text": [
      "True Positives: 231\n",
      "False Positives: 27\n",
      "False Negatives: 39\n",
      "True Negatives: 243\n"
     ]
    }
   ],
   "source": [
    "# create confusion matrix\n",
    "\n",
    "tn, fp, fn, tp = confusion_matrix(y_test, y_pred).ravel()\n",
    "\n",
    "print(\"True Positives: %s\" % tp)\n",
    "print(\"False Positives: %s\" % fp)\n",
    "print(\"False Negatives: %s\" % fn)\n",
    "print(\"True Negatives: %s\" % tn)"
   ]
  },
  {
   "cell_type": "code",
   "execution_count": 52,
   "metadata": {},
   "outputs": [
    {
     "name": "stdout",
     "output_type": "stream",
     "text": [
      "Accuracy: 0.878\n",
      "Sensitivity: 0.856\n",
      "Specificity: 0.9\n",
      "Precision: 0.895\n"
     ]
    }
   ],
   "source": [
    "# confusion matrix metrics\n",
    "\n",
    "accuracy = (tp+tn)/(tp+fp+fn+tn)\n",
    "sensitivity = tp/(tp+fn)\n",
    "specificity = tn/(tn+fp)\n",
    "precision = tp/(tp+fp)\n",
    "\n",
    "print('Accuracy:',round(accuracy,3))\n",
    "print('Sensitivity:',round(sensitivity,3))\n",
    "print('Specificity:',round(specificity,3))\n",
    "print('Precision:',round(precision,3))"
   ]
  },
  {
   "cell_type": "markdown",
   "metadata": {},
   "source": [
    "### Models by Pipeline"
   ]
  },
  {
   "cell_type": "code",
   "execution_count": 53,
   "metadata": {},
   "outputs": [
    {
     "name": "stdout",
     "output_type": "stream",
     "text": [
      "0.8407407407407408\n",
      "Number of features: 1000\n"
     ]
    },
    {
     "name": "stderr",
     "output_type": "stream",
     "text": [
      "C:\\ProgramData\\Anaconda3\\lib\\site-packages\\sklearn\\linear_model\\logistic.py:433: FutureWarning: Default solver will be changed to 'lbfgs' in 0.22. Specify a solver to silence this warning.\n",
      "  FutureWarning)\n"
     ]
    }
   ],
   "source": [
    "# TfidfVectorizer with LogisticRegression\n",
    "\n",
    "model = make_pipeline(TfidfVectorizer(stop_words='english',\n",
    "                                      sublinear_tf=True,\n",
    "                                      max_df=0.5,\n",
    "                                      max_features=1000),\n",
    "                      LogisticRegression(),\n",
    "                      )\n",
    "\n",
    "model.fit(X_train[features], y_train)\n",
    "y_pred = model.predict(X_test[features])\n",
    "\n",
    "print(accuracy_score(y_test, y_pred))\n",
    "print(\"Number of features:\", len(model.steps[0][1].get_feature_names()))"
   ]
  },
  {
   "cell_type": "code",
   "execution_count": 54,
   "metadata": {},
   "outputs": [
    {
     "name": "stdout",
     "output_type": "stream",
     "text": [
      "0.8481481481481481\n",
      "Number of features: 1000\n"
     ]
    }
   ],
   "source": [
    "# TfidfVectorizer with MultinomialNB\n",
    "\n",
    "model = make_pipeline(TfidfVectorizer(stop_words='english',\n",
    "                                      sublinear_tf=True,\n",
    "                                      max_df=0.5,\n",
    "                                      max_features=1000),\n",
    "                      MultinomialNB(),\n",
    "                      )\n",
    "\n",
    "model.fit(X_train[features], y_train)\n",
    "y_pred = model.predict(X_test[features])\n",
    "\n",
    "print(accuracy_score(y_test, y_pred))\n",
    "print(\"Number of features:\", len(model.steps[0][1].get_feature_names()))"
   ]
  },
  {
   "cell_type": "markdown",
   "metadata": {},
   "source": [
    "### Output Model Predictions"
   ]
  },
  {
   "cell_type": "code",
   "execution_count": 55,
   "metadata": {},
   "outputs": [],
   "source": [
    "# output to csv\n",
    "\n",
    "#timestamp = dt.datetime.now()\n",
    "#timestamp = timestamp.strftime(\" %Y_%m_%d %H_%M_%S \")\n",
    "    \n",
    "# contains selected columns for feature matrix\n",
    "#df_cols.to_csv(output_path + 'columns' + timestamp + '.csv')"
   ]
  },
  {
   "cell_type": "markdown",
   "metadata": {},
   "source": [
    "### Descriptive and Inferential Statistics"
   ]
  },
  {
   "cell_type": "code",
   "execution_count": 56,
   "metadata": {},
   "outputs": [],
   "source": [
    "df_top_a_cv = df_a_cv[list(set_a)]\n",
    "df_top_b_cv = df_b_cv[list(set_b)]\n",
    "\n",
    "# for each post, count number of occurances (from top words list)\n",
    "a_cv_has_top = df_top_a_cv.sum(axis=1)\n",
    "b_cv_has_top = df_top_b_cv.sum(axis=1)"
   ]
  },
  {
   "cell_type": "code",
   "execution_count": 57,
   "metadata": {},
   "outputs": [],
   "source": [
    "# create df_a_cv_has_top\n",
    "\n",
    "df_a_cv_has_top= a_cv_has_top.value_counts().to_frame()\n",
    "\n",
    "df_a_cv_has_top['occurances'] = df_a_cv_has_top.index\n",
    "\n",
    "df_a_cv_has_top.reset_index(drop=True, inplace=True)\n",
    "\n",
    "df_a_cv_has_top.rename(columns={0: \"num_posts\"},inplace=True)\n",
    "df_a_cv_has_top['freq'] = df_a_cv_has_top[\"num_posts\"] / len(df_a) * 100\n",
    "cols = ['occurances','num_posts','freq']\n",
    "df_a_cv_has_top = df_a_cv_has_top[cols]"
   ]
  },
  {
   "cell_type": "code",
   "execution_count": 58,
   "metadata": {},
   "outputs": [],
   "source": [
    "# create df_b_cv_has_top\n",
    "\n",
    "df_b_cv_has_top= b_cv_has_top.value_counts().to_frame()\n",
    "\n",
    "df_b_cv_has_top['occurances'] = df_b_cv_has_top.index\n",
    "\n",
    "df_b_cv_has_top.reset_index(drop=True, inplace=True)\n",
    "\n",
    "df_b_cv_has_top.rename(columns={0: \"num_posts\"},inplace=True)\n",
    "df_b_cv_has_top['freq'] = df_b_cv_has_top[\"num_posts\"] / len(df_b) * 100\n",
    "cols = ['occurances','num_posts','freq']\n",
    "df_b_cv_has_top = df_b_cv_has_top[cols]"
   ]
  },
  {
   "cell_type": "code",
   "execution_count": 59,
   "metadata": {},
   "outputs": [
    {
     "data": {
      "image/png": "[encoded data removed]",
      "text/plain": [
       "<Figure size 1440x432 with 1 Axes>"
      ]
     },
     "metadata": {},
     "output_type": "display_data"
    }
   ],
   "source": [
    "plt.figure(figsize=(20,6))\n",
    "plt.title('Board Games: Occurances of Top Words Per Post',fontsize=25)\n",
    "\n",
    "sns.set_style(\"whitegrid\")\n",
    "\n",
    "sns.barplot(data=df_a_cv_has_top,x='occurances',y='freq')\n",
    "\n",
    "plt.xlabel('occurances',fontsize=20)\n",
    "plt.ylabel('frequency (%)',fontsize=20)\n",
    "plt.tick_params(labelsize=15)"
   ]
  },
  {
   "cell_type": "code",
   "execution_count": 60,
   "metadata": {},
   "outputs": [
    {
     "data": {
      "image/png": "[encoded data removed]",
      "text/plain": [
       "<Figure size 1440x432 with 1 Axes>"
      ]
     },
     "metadata": {},
     "output_type": "display_data"
    }
   ],
   "source": [
    "plt.figure(figsize=(20,6))\n",
    "plt.title('Mobile Games: Occurances of Top Words Per Post',fontsize=25)\n",
    "\n",
    "sns.set_style(\"whitegrid\")\n",
    "\n",
    "sns.barplot(data=df_b_cv_has_top,x='occurances',y='freq')\n",
    "\n",
    "plt.xlabel('occurances',fontsize=20)\n",
    "plt.ylabel('frequency (%)',fontsize=20)\n",
    "plt.tick_params(labelsize=15)"
   ]
  },
  {
   "cell_type": "markdown",
   "metadata": {},
   "source": [
    "### Outside Research"
   ]
  },
  {
   "cell_type": "code",
   "execution_count": null,
   "metadata": {},
   "outputs": [],
   "source": []
  },
  {
   "cell_type": "markdown",
   "metadata": {},
   "source": [
    "### Conclusions and Recommendations"
   ]
  },
  {
   "cell_type": "code",
   "execution_count": null,
   "metadata": {},
   "outputs": [],
   "source": []
  },
  {
   "cell_type": "code",
   "execution_count": null,
   "metadata": {},
   "outputs": [],
   "source": []
  }
 ],
 "metadata": {
  "kernelspec": {
   "display_name": "Python 3",
   "language": "python",
   "name": "python3"
  },
  "language_info": {
   "codemirror_mode": {
    "name": "ipython",
    "version": 3
   },
   "file_extension": ".py",
   "mimetype": "text/x-python",
   "name": "python",
   "nbconvert_exporter": "python",
   "pygments_lexer": "ipython3",
   "version": "3.7.3"
  }
 },
 "nbformat": 4,
 "nbformat_minor": 2
}
