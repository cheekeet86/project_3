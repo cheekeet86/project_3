{
 "cells": [
  {
   "cell_type": "markdown",
   "metadata": {},
   "source": [
    "# Project 3: Web APIs & Classification"
   ]
  },
  {
   "cell_type": "markdown",
   "metadata": {},
   "source": [
    "### Contents\n",
    "\n",
    "- [Problem Statement](#Problem-Statement)\n",
    "- [Functions](#Functions)\n",
    "- [Importing](#Importing)\n",
    "\n",
    "\n",
    "- [Inspect Data](#Inspect-Data)\n",
    "- [Clean Data](#Clean-Data)\n",
    "- [Output Clean Data](#Output-Clean-Data)\n",
    "\n",
    "\n",
    "- [EDA](#EDA)\n",
    "\n",
    "\n",
    "- [LR Model Exploratory](#LR-Model-Exploratory)\n",
    "- [Create Feature Matrix and Target](#Create-Feature-Matrix-and-Target)\n",
    "- [LR Model](#LR-Model)\n",
    "- [Ridge Model](#Ridge-Model)\n",
    "- [Lasso Model](#Lasso-Model)\n",
    "\n",
    "\n",
    "- [Output Model Predictions](#Output-Model-Predictions)\n",
    "\n",
    "\n",
    "- [Descriptive and Inferential Statistics](#Descriptive-and-Inferential-Statistics)\n",
    "- [Outside Research](#Outside-Research)\n",
    "- [Conclusions and Recommendations](#Conclusions-and-Recommendations)"
   ]
  },
  {
   "cell_type": "markdown",
   "metadata": {},
   "source": [
    "### Problem Statement\n",
    "\n",
    "- Blank"
   ]
  },
  {
   "cell_type": "markdown",
   "metadata": {},
   "source": [
    "### Functions"
   ]
  },
  {
   "cell_type": "code",
   "execution_count": 1,
   "metadata": {
    "collapsed": true
   },
   "outputs": [],
   "source": [
    "# user configuration\n",
    "\n",
    "# True: scape data from website -> save as json files\n",
    "# False: load json files\n",
    "scape_data = False\n",
    "\n",
    "subreddit = ['boardgames','mobilegames']\n",
    "\n",
    "# scape data for subreddit[0] if scape_data is True\n",
    "scape_index = 0\n",
    "# scape data for subreddit[1] if scape_data is True\n",
    "#scape_index = 1\n",
    "\n",
    "url = \"http://www.reddit.com/r/\"\n",
    "headers = {'User-agent':'Bleep blorp bot 0.1'}\n",
    "\n",
    "num_requests = 40"
   ]
  },
  {
   "cell_type": "code",
   "execution_count": 2,
   "metadata": {
    "collapsed": true
   },
   "outputs": [],
   "source": [
    "# output scaped data to json files\n",
    "def output_json(data):\n",
    "\n",
    "    timestamp = dt.datetime.now()\n",
    "    timestamp = timestamp.strftime(\" %Y_%m_%d %H_%M_%S\")\n",
    "    \n",
    "    filepath = input_path + subreddit[scape_index] + '/'\n",
    "    filename = subreddit[scape_index] + timestamp + '.json'    \n",
    "    \n",
    "    file = open(filepath + filename,\"w+\")    \n",
    "    json.dump(data,file)\n",
    "    \n",
    "    print('created',filename)"
   ]
  },
  {
   "cell_type": "markdown",
   "metadata": {},
   "source": [
    "### Importing"
   ]
  },
  {
   "cell_type": "code",
   "execution_count": 3,
   "metadata": {
    "collapsed": true
   },
   "outputs": [],
   "source": [
    "# import libraries\n",
    "\n",
    "# maths\n",
    "import scipy.stats as stats\n",
    "import numpy as np\n",
    "import pandas as pd\n",
    "#from pandas.api.types import is_numeric_dtype\n",
    "\n",
    "# visual\n",
    "import seaborn as sns\n",
    "import matplotlib.pyplot as plt\n",
    "%matplotlib inline\n",
    "\n",
    "# machine learning\n",
    "from sklearn.linear_model import LinearRegression,Ridge,RidgeCV,Lasso,LassoCV,ElasticNet \n",
    "from sklearn import linear_model\n",
    "from sklearn.model_selection import train_test_split,cross_val_score\n",
    "from sklearn.preprocessing import StandardScaler,PolynomialFeatures\n",
    "from sklearn.linear_model import Ridge\n",
    "from sklearn.metrics import r2_score,mean_squared_error\n",
    "\n",
    "# web\n",
    "import requests\n",
    "import json\n",
    "from IPython.display import Image\n",
    "from IPython.core.display import HTML\n",
    "\n",
    "# others\n",
    "import time\n",
    "import datetime as dt\n",
    "#import re\n",
    "import os"
   ]
  },
  {
   "cell_type": "code",
   "execution_count": 4,
   "metadata": {
    "collapsed": true
   },
   "outputs": [],
   "source": [
    "# file paths\n",
    "\n",
    "input_path = '../data/input/'\n",
    "mid_path = '../data/mid/'\n",
    "output_path = '../data/output/'\n",
    "\n",
    "image_path = '../images/'"
   ]
  },
  {
   "cell_type": "code",
   "execution_count": 5,
   "metadata": {
    "collapsed": true
   },
   "outputs": [],
   "source": [
    "# old method (not used)\n",
    "# get json from reddit boardgames\n",
    "\n",
    "# if scape_data == True:\n",
    "\n",
    "#     response = requests.get(url,headers=headers)\n",
    "#     print(response.status_code)\n",
    "\n",
    "#     json_data = response.json()\n",
    "#     sorted(json_data.keys())"
   ]
  },
  {
   "cell_type": "code",
   "execution_count": 6,
   "metadata": {
    "collapsed": true
   },
   "outputs": [],
   "source": [
    "# old method (not used)\n",
    "# print number of posts in json_data\n",
    "\n",
    "# if scape_data == True:\n",
    "\n",
    "#     print(len(json_data['data']['children']))\n",
    "\n",
    "#     # print info in kind\n",
    "#     print(json_data['kind'])\n",
    "#     print('')\n",
    "\n",
    "#     # print data keys\n",
    "#     print(sorted(json_data['data'].keys()))\n",
    "#     print('')\n",
    "\n",
    "#     # print 1st post\n",
    "#     print(json_data['data']['children'][0]['data'])\n",
    "#     print('')\n",
    "\n",
    "#     # print id of of last post\n",
    "#     print(json_data['data']['after'])"
   ]
  },
  {
   "cell_type": "code",
   "execution_count": 7,
   "metadata": {
    "collapsed": true
   },
   "outputs": [],
   "source": [
    "# old method (not used)\n",
    "# print ids of all posts\n",
    "\n",
    "# if scape_data == True:\n",
    "\n",
    "#     [post['data']['name'] for post in json_data['data']['children']]"
   ]
  },
  {
   "cell_type": "code",
   "execution_count": 8,
   "metadata": {
    "collapsed": true
   },
   "outputs": [],
   "source": [
    "# get json_data with multiple requests\n",
    "\n",
    "if scape_data == True:\n",
    "\n",
    "    posts = []\n",
    "    after = None\n",
    "\n",
    "    for i in range(1,num_requests+1):\n",
    "\n",
    "        if after == None:\n",
    "            params = {}\n",
    "        else:\n",
    "            params = {'after':after}\n",
    "\n",
    "        json_url = url + subreddit[scape_index] + '.json'\n",
    "        response = requests.get(json_url,params=params,headers=headers)\n",
    "\n",
    "        if response.status_code == 200:       \n",
    "\n",
    "            print('process request',i)\n",
    "\n",
    "            json_data = response.json()\n",
    "            posts.extend(json_data['data']['children'])\n",
    "            after = json_data['data']['after']\n",
    "\n",
    "            # save scaped data to files\n",
    "            output_json(json_data)        \n",
    "\n",
    "        else:\n",
    "            print(response.status_code)\n",
    "            break\n",
    "\n",
    "        time.sleep(3)"
   ]
  },
  {
   "cell_type": "code",
   "execution_count": 9,
   "metadata": {
    "collapsed": true
   },
   "outputs": [
    {
     "name": "stdout",
     "output_type": "stream",
     "text": [
      "../data/input/boardgames 2019_07_15 21_02_41.json\n",
      "../data/input/boardgames 2019_07_15 21_02_44.json\n",
      "../data/input/boardgames 2019_07_15 21_02_48.json\n",
      "../data/input/boardgames 2019_07_15 21_02_52.json\n",
      "../data/input/boardgames 2019_07_15 21_02_56.json\n",
      "../data/input/boardgames 2019_07_15 21_03_00.json\n",
      "../data/input/boardgames 2019_07_15 21_03_04.json\n",
      "../data/input/boardgames 2019_07_15 21_03_08.json\n",
      "../data/input/boardgames 2019_07_15 21_03_12.json\n",
      "../data/input/boardgames 2019_07_15 21_03_15.json\n",
      "../data/input/boardgames 2019_07_15 21_03_19.json\n",
      "../data/input/boardgames 2019_07_15 21_03_23.json\n",
      "../data/input/boardgames 2019_07_15 21_03_27.json\n",
      "../data/input/boardgames 2019_07_15 21_03_31.json\n",
      "../data/input/boardgames 2019_07_15 21_03_35.json\n",
      "../data/input/boardgames 2019_07_15 21_03_39.json\n",
      "../data/input/boardgames 2019_07_15 21_03_43.json\n",
      "../data/input/boardgames 2019_07_15 21_03_47.json\n",
      "../data/input/boardgames 2019_07_15 21_03_50.json\n",
      "../data/input/boardgames 2019_07_15 21_03_54.json\n",
      "../data/input/boardgames 2019_07_15 21_03_58.json\n",
      "../data/input/boardgames 2019_07_15 21_04_03.json\n",
      "../data/input/boardgames 2019_07_15 21_04_07.json\n",
      "../data/input/boardgames 2019_07_15 21_04_11.json\n",
      "../data/input/boardgames 2019_07_15 21_04_15.json\n",
      "../data/input/boardgames 2019_07_15 21_04_19.json\n",
      "../data/input/boardgames 2019_07_15 21_04_23.json\n",
      "../data/input/boardgames 2019_07_15 21_04_27.json\n",
      "../data/input/boardgames 2019_07_15 21_04_31.json\n",
      "../data/input/boardgames 2019_07_15 21_04_35.json\n",
      "../data/input/boardgames 2019_07_15 21_04_39.json\n",
      "../data/input/boardgames 2019_07_15 21_04_43.json\n",
      "../data/input/boardgames 2019_07_15 21_04_46.json\n",
      "../data/input/boardgames 2019_07_15 21_04_51.json\n",
      "../data/input/boardgames 2019_07_15 21_04_55.json\n",
      "../data/input/boardgames 2019_07_15 21_04_59.json\n",
      "../data/input/boardgames 2019_07_15 21_05_03.json\n",
      "../data/input/boardgames 2019_07_15 21_05_07.json\n",
      "../data/input/boardgames 2019_07_15 21_05_10.json\n",
      "../data/input/boardgames 2019_07_15 21_05_15.json\n"
     ]
    }
   ],
   "source": [
    "# load json data from files (saved previously in input folder)\n",
    "\n",
    "if scape_data == False:\n",
    "\n",
    "    posts = []\n",
    "    \n",
    "    files = []\n",
    "    \n",
    "    filepath = input_path + subreddit[scape_index]\n",
    "\n",
    "    # r=root, d=directories, f = files\n",
    "    for r, d, f in os.walk(filepath):\n",
    "        for file in f:\n",
    "            if '.json' in file:\n",
    "                files.append(os.path.join(r, file))\n",
    "\n",
    "    for f in files:\n",
    "        print(f)\n",
    "        file_data = open(f).read()\n",
    "        json_data = json.loads(file_data)\n",
    "        \n",
    "        posts.extend(json_data['data']['children'])\n",
    "        after = json_data['data']['after']       "
   ]
  },
  {
   "cell_type": "code",
   "execution_count": 10,
   "metadata": {
    "collapsed": true
   },
   "outputs": [
    {
     "name": "stdout",
     "output_type": "stream",
     "text": [
      "989\n",
      "963\n"
     ]
    }
   ],
   "source": [
    "# print total number of posts\n",
    "print(len(posts))\n",
    "\n",
    "# check for duplicates\n",
    "print(len(set(p['data']['name'] for p in posts)))"
   ]
  },
  {
   "cell_type": "markdown",
   "metadata": {},
   "source": [
    "### Inspect Data"
   ]
  },
  {
   "cell_type": "code",
   "execution_count": 11,
   "metadata": {
    "collapsed": true
   },
   "outputs": [],
   "source": [
    "for p in posts:\n",
    "    \n",
    "    title = p['data']['title']\n",
    "    #subreddit = p['data']['subreddit']\n",
    "    score = p['data']['score']\n",
    "    pinned = p['data']['pinned'] \n",
    "    \n",
    "    #print(title)\n",
    "    #print(subreddit)\n",
    "    #print(score)\n",
    "    #print(pinned)\n",
    "    #print('')\n",
    "    \n",
    "    #keys = p['data'].keys()    \n",
    "    #print(len(keys))   "
   ]
  },
  {
   "cell_type": "code",
   "execution_count": 12,
   "metadata": {
    "collapsed": true
   },
   "outputs": [],
   "source": [
    "#cols = list(posts[0]['data'].keys())\n",
    "cols = ['title','score','selftext']\n",
    "\n",
    "df = pd.DataFrame(columns=cols)"
   ]
  },
  {
   "cell_type": "code",
   "execution_count": 13,
   "metadata": {
    "collapsed": true
   },
   "outputs": [],
   "source": [
    "# convert json_data -> df\n",
    "\n",
    "for idx,p in enumerate(posts):\n",
    "    \n",
    "    p_keys = p['data'].keys()\n",
    "    \n",
    "    for col in cols:\n",
    "        \n",
    "        if col in p_keys:\n",
    "            df.at[idx,col] = p['data'][col]\n",
    "        else:\n",
    "            df.at[idx,col] = np.nan\n",
    "            print(idx,col,'nan')"
   ]
  },
  {
   "cell_type": "code",
   "execution_count": 14,
   "metadata": {
    "collapsed": true
   },
   "outputs": [
    {
     "name": "stdout",
     "output_type": "stream",
     "text": [
      "Index(['title', 'score', 'selftext'], dtype='object')\n"
     ]
    }
   ],
   "source": [
    "# list all columns in df_train\n",
    "\n",
    "print(df.columns)"
   ]
  },
  {
   "cell_type": "code",
   "execution_count": 15,
   "metadata": {
    "collapsed": true
   },
   "outputs": [
    {
     "data": {
      "text/html": [
       "<div>\n",
       "<style scoped>\n",
       "    .dataframe tbody tr th:only-of-type {\n",
       "        vertical-align: middle;\n",
       "    }\n",
       "\n",
       "    .dataframe tbody tr th {\n",
       "        vertical-align: top;\n",
       "    }\n",
       "\n",
       "    .dataframe thead th {\n",
       "        text-align: right;\n",
       "    }\n",
       "</style>\n",
       "<table border=\"1\" class=\"dataframe\">\n",
       "  <thead>\n",
       "    <tr style=\"text-align: right;\">\n",
       "      <th></th>\n",
       "      <th>title</th>\n",
       "      <th>score</th>\n",
       "      <th>selftext</th>\n",
       "    </tr>\n",
       "  </thead>\n",
       "  <tbody>\n",
       "    <tr>\n",
       "      <th>0</th>\n",
       "      <td>/r/boardgames Daily Discussion and Game Recomm...</td>\n",
       "      <td>4</td>\n",
       "      <td>**Welcome to /r/boardgames Daily Discussion an...</td>\n",
       "    </tr>\n",
       "    <tr>\n",
       "      <th>1</th>\n",
       "      <td>My game just won Best in Show at the Southern ...</td>\n",
       "      <td>788</td>\n",
       "      <td>The game I've been working on for about 5 year...</td>\n",
       "    </tr>\n",
       "    <tr>\n",
       "      <th>2</th>\n",
       "      <td>Card games for Software Developers - our Print...</td>\n",
       "      <td>12</td>\n",
       "      <td>Hello r/boardgames,\\n\\nme (Mateusz) and my fri...</td>\n",
       "    </tr>\n",
       "    <tr>\n",
       "      <th>3</th>\n",
       "      <td>Games with great design lessons for accessibil...</td>\n",
       "      <td>13</td>\n",
       "      <td></td>\n",
       "    </tr>\n",
       "    <tr>\n",
       "      <th>4</th>\n",
       "      <td>Kickstarter Roundup: Jul 14, 2019 | 11 Ending ...</td>\n",
       "      <td>234</td>\n",
       "      <td>## What this is:\\n\\nThis is a weekly, curated ...</td>\n",
       "    </tr>\n",
       "  </tbody>\n",
       "</table>\n",
       "</div>"
      ],
      "text/plain": [
       "                                               title score  \\\n",
       "0  /r/boardgames Daily Discussion and Game Recomm...     4   \n",
       "1  My game just won Best in Show at the Southern ...   788   \n",
       "2  Card games for Software Developers - our Print...    12   \n",
       "3  Games with great design lessons for accessibil...    13   \n",
       "4  Kickstarter Roundup: Jul 14, 2019 | 11 Ending ...   234   \n",
       "\n",
       "                                            selftext  \n",
       "0  **Welcome to /r/boardgames Daily Discussion an...  \n",
       "1  The game I've been working on for about 5 year...  \n",
       "2  Hello r/boardgames,\\n\\nme (Mateusz) and my fri...  \n",
       "3                                                     \n",
       "4  ## What this is:\\n\\nThis is a weekly, curated ...  "
      ]
     },
     "execution_count": 15,
     "metadata": {},
     "output_type": "execute_result"
    }
   ],
   "source": [
    "# output 1st 5 records in df_train\n",
    "\n",
    "df.head()"
   ]
  },
  {
   "cell_type": "code",
   "execution_count": 16,
   "metadata": {
    "collapsed": true
   },
   "outputs": [
    {
     "data": {
      "text/html": [
       "<div>\n",
       "<style scoped>\n",
       "    .dataframe tbody tr th:only-of-type {\n",
       "        vertical-align: middle;\n",
       "    }\n",
       "\n",
       "    .dataframe tbody tr th {\n",
       "        vertical-align: top;\n",
       "    }\n",
       "\n",
       "    .dataframe thead th {\n",
       "        text-align: right;\n",
       "    }\n",
       "</style>\n",
       "<table border=\"1\" class=\"dataframe\">\n",
       "  <thead>\n",
       "    <tr style=\"text-align: right;\">\n",
       "      <th></th>\n",
       "      <th>title</th>\n",
       "      <th>score</th>\n",
       "      <th>selftext</th>\n",
       "    </tr>\n",
       "  </thead>\n",
       "  <tbody>\n",
       "    <tr>\n",
       "      <th>count</th>\n",
       "      <td>989</td>\n",
       "      <td>989</td>\n",
       "      <td>989</td>\n",
       "    </tr>\n",
       "    <tr>\n",
       "      <th>unique</th>\n",
       "      <td>963</td>\n",
       "      <td>193</td>\n",
       "      <td>820</td>\n",
       "    </tr>\n",
       "    <tr>\n",
       "      <th>top</th>\n",
       "      <td>/r/boardgames Daily Discussion and Game Recomm...</td>\n",
       "      <td>0</td>\n",
       "      <td></td>\n",
       "    </tr>\n",
       "    <tr>\n",
       "      <th>freq</th>\n",
       "      <td>2</td>\n",
       "      <td>67</td>\n",
       "      <td>114</td>\n",
       "    </tr>\n",
       "  </tbody>\n",
       "</table>\n",
       "</div>"
      ],
      "text/plain": [
       "                                                    title  score selftext\n",
       "count                                                 989    989      989\n",
       "unique                                                963    193      820\n",
       "top     /r/boardgames Daily Discussion and Game Recomm...      0         \n",
       "freq                                                    2     67      114"
      ]
     },
     "execution_count": 16,
     "metadata": {},
     "output_type": "execute_result"
    }
   ],
   "source": [
    "df_desc = df.describe()\n",
    "df_desc"
   ]
  },
  {
   "cell_type": "code",
   "execution_count": 17,
   "metadata": {
    "collapsed": true
   },
   "outputs": [
    {
     "data": {
      "text/plain": [
       "Series([], dtype: int64)"
      ]
     },
     "execution_count": 17,
     "metadata": {},
     "output_type": "execute_result"
    }
   ],
   "source": [
    "# Check for nulls in columns\n",
    "\n",
    "null_cols = df.isnull().sum()\n",
    "mask_null = null_cols > 0\n",
    "null_cols[mask_null].sort_values(ascending=False)"
   ]
  },
  {
   "cell_type": "code",
   "execution_count": 18,
   "metadata": {
    "collapsed": true
   },
   "outputs": [
    {
     "data": {
      "text/plain": [
       "Series([], dtype: int64)"
      ]
     },
     "execution_count": 18,
     "metadata": {},
     "output_type": "execute_result"
    }
   ],
   "source": [
    "# Check for nulls in rows\n",
    "\n",
    "null_rows = df.isnull().sum(axis=1)\n",
    "mask_null = null_rows > 0\n",
    "null_rows[mask_null].sort_values(ascending=False)"
   ]
  },
  {
   "cell_type": "code",
   "execution_count": 19,
   "metadata": {
    "collapsed": true
   },
   "outputs": [
    {
     "name": "stdout",
     "output_type": "stream",
     "text": [
      "<class 'pandas.core.frame.DataFrame'>\n",
      "Int64Index: 989 entries, 0 to 988\n",
      "Data columns (total 3 columns):\n",
      "title       989 non-null object\n",
      "score       989 non-null object\n",
      "selftext    989 non-null object\n",
      "dtypes: object(3)\n",
      "memory usage: 70.9+ KB\n"
     ]
    }
   ],
   "source": [
    "# show column summary\n",
    "\n",
    "df_info = df.info()\n",
    "df_info"
   ]
  },
  {
   "cell_type": "code",
   "execution_count": 20,
   "metadata": {
    "collapsed": true
   },
   "outputs": [
    {
     "data": {
      "text/plain": [
       "title       989\n",
       "score       989\n",
       "selftext    989\n",
       "dtype: int64"
      ]
     },
     "execution_count": 20,
     "metadata": {},
     "output_type": "execute_result"
    }
   ],
   "source": [
    "# find columns with the most empty cells\n",
    "\n",
    "df.count(axis=0).sort_values()"
   ]
  },
  {
   "cell_type": "markdown",
   "metadata": {},
   "source": [
    "### Clean Data"
   ]
  },
  {
   "cell_type": "code",
   "execution_count": 21,
   "metadata": {
    "collapsed": true
   },
   "outputs": [],
   "source": [
    "# rename columns"
   ]
  },
  {
   "cell_type": "code",
   "execution_count": 22,
   "metadata": {
    "collapsed": true
   },
   "outputs": [],
   "source": [
    "# convert all string in cells to lowercase -> prevent duplicates when creating dummies\n",
    "\n",
    "#df_train = df_train.applymap(lambda s:s.lower() if type(s) == str else s)\n",
    "#df_test = df_test.applymap(lambda s:s.lower() if type(s) == str else s)"
   ]
  },
  {
   "cell_type": "code",
   "execution_count": 23,
   "metadata": {
    "collapsed": true
   },
   "outputs": [],
   "source": [
    "# fill nan/empty cells with na\n",
    "\n",
    "#cols = ['pool_qual','bsmt_qual','fireplace_score','garage_qual','garage_cond','bsmt_type1_score','bsmt_type2_score']\n",
    "\n",
    "#for col in cols:\n",
    "    #df_train[col] = df_train[col].fillna(value='na')\n",
    "    #df_test[col] = df_test[col].fillna(value='na')"
   ]
  },
  {
   "cell_type": "code",
   "execution_count": 24,
   "metadata": {
    "collapsed": true
   },
   "outputs": [],
   "source": [
    "# # fill nan/empty cells with 0\n",
    "\n",
    "# cols = ['bath_half_bsmt_num','bath_full_bsmt_num','garage_area','garage_car_num','bsmt_total_area',\n",
    "#         'bsmt_unfinish_area','bsmt_type2_area','bsmt_type1_area']\n",
    "\n",
    "# for col in cols:\n",
    "#     df_train[col] = df_train[col].fillna(value='0')\n",
    "#     df_test[col] = df_test[col].fillna(value='0')"
   ]
  },
  {
   "cell_type": "markdown",
   "metadata": {},
   "source": [
    "### Output Clean Data"
   ]
  },
  {
   "cell_type": "code",
   "execution_count": 25,
   "metadata": {
    "collapsed": true
   },
   "outputs": [],
   "source": [
    "# output to csv\n",
    "\n",
    "df.to_csv(mid_path + 'df.csv')"
   ]
  },
  {
   "cell_type": "markdown",
   "metadata": {},
   "source": [
    "### EDA"
   ]
  },
  {
   "cell_type": "code",
   "execution_count": 26,
   "metadata": {
    "collapsed": true
   },
   "outputs": [],
   "source": [
    "# df_train heatmap (staircase)\n",
    "\n",
    "#corr = df_train.corr()\n",
    "#mask = np.zeros_like(corr)\n",
    "#mask[np.triu_indices_from(mask)] = True\n",
    "\n",
    "#fig, ax = plt.subplots(figsize=(20, 10))\n",
    "#sns.heatmap(corr, mask=mask, vmax=.3, square=True,cmap=\"coolwarm_r\");"
   ]
  },
  {
   "cell_type": "code",
   "execution_count": 27,
   "metadata": {
    "collapsed": true
   },
   "outputs": [],
   "source": [
    "#create_scatterplot('Sale Price vs House Quality',df_train,x ='house_qual',y ='sale_price',hue ='lot_subclass')\n",
    "\n",
    "#print(\"sale price tends to increase as house quality increases.\")"
   ]
  },
  {
   "cell_type": "code",
   "execution_count": 28,
   "metadata": {
    "collapsed": true
   },
   "outputs": [],
   "source": [
    "# create histograms for all numeric columns\n",
    "#df_train.hist(figsize=(15, 15));\n",
    "\n",
    "#print('plot histograms for all numeric columns to check for zeros and abnormalities.')"
   ]
  },
  {
   "cell_type": "code",
   "execution_count": 29,
   "metadata": {
    "collapsed": true
   },
   "outputs": [],
   "source": [
    "#create_boxplot(df_train,x='lot_subclass',y='sale_price',title='Sale Price vs Lot Subclass')\n",
    "\n",
    "#print(\"Most subclasses has sale price between 100K to 200K.\")\n",
    "#print(\"4 subclasses have sale price above 200k and they have more outliers.\")\n",
    "#print(\"I will convert lot_subclass to dummy variables for model predictions.\")"
   ]
  },
  {
   "cell_type": "markdown",
   "metadata": {},
   "source": [
    "### Create Feature Matrix and Target"
   ]
  },
  {
   "cell_type": "code",
   "execution_count": null,
   "metadata": {
    "collapsed": true
   },
   "outputs": [],
   "source": []
  },
  {
   "cell_type": "markdown",
   "metadata": {},
   "source": [
    "### LR Model"
   ]
  },
  {
   "cell_type": "code",
   "execution_count": null,
   "metadata": {
    "collapsed": true
   },
   "outputs": [],
   "source": []
  },
  {
   "cell_type": "markdown",
   "metadata": {},
   "source": [
    "### Ridge Model"
   ]
  },
  {
   "cell_type": "code",
   "execution_count": null,
   "metadata": {
    "collapsed": true
   },
   "outputs": [],
   "source": []
  },
  {
   "cell_type": "markdown",
   "metadata": {},
   "source": [
    "### Lasso Model"
   ]
  },
  {
   "cell_type": "code",
   "execution_count": null,
   "metadata": {
    "collapsed": true
   },
   "outputs": [],
   "source": []
  },
  {
   "cell_type": "markdown",
   "metadata": {},
   "source": [
    "### Output Model Predictions"
   ]
  },
  {
   "cell_type": "code",
   "execution_count": 30,
   "metadata": {
    "collapsed": true
   },
   "outputs": [],
   "source": [
    "# output to csv\n",
    "\n",
    "#timestamp = dt.datetime.now()\n",
    "#timestamp = timestamp.strftime(\" %Y_%m_%d %H_%M_%S \")\n",
    "    \n",
    "# contains selected columns for feature matrix\n",
    "#df_cols.to_csv(output_path + 'columns' + timestamp + '.csv')"
   ]
  },
  {
   "cell_type": "markdown",
   "metadata": {},
   "source": [
    "### Descriptive and Inferential Statistics"
   ]
  },
  {
   "cell_type": "code",
   "execution_count": null,
   "metadata": {
    "collapsed": true
   },
   "outputs": [],
   "source": []
  },
  {
   "cell_type": "markdown",
   "metadata": {},
   "source": [
    "### Outside Research"
   ]
  },
  {
   "cell_type": "code",
   "execution_count": null,
   "metadata": {
    "collapsed": true
   },
   "outputs": [],
   "source": []
  },
  {
   "cell_type": "markdown",
   "metadata": {},
   "source": [
    "### Conclusions and Recommendations"
   ]
  },
  {
   "cell_type": "code",
   "execution_count": null,
   "metadata": {
    "collapsed": true
   },
   "outputs": [],
   "source": []
  }
 ],
 "metadata": {
  "kernelspec": {
   "display_name": "Python 3",
   "language": "python",
   "name": "python3"
  },
  "language_info": {
   "codemirror_mode": {
    "name": "ipython",
    "version": 3
   },
   "file_extension": ".py",
   "mimetype": "text/x-python",
   "name": "python",
   "nbconvert_exporter": "python",
   "pygments_lexer": "ipython3",
   "version": "3.7.3"
  }
 },
 "nbformat": 4,
 "nbformat_minor": 2
}
