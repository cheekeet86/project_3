{
 "cells": [
  {
   "cell_type": "markdown",
   "metadata": {},
   "source": [
    "# Project 3: Web APIs & Classification"
   ]
  },
  {
   "cell_type": "markdown",
   "metadata": {},
   "source": [
    "### Contents\n",
    "\n",
    "- [Problem Statement](#Problem-Statement)\n",
    "- [Functions](#Functions)\n",
    "- [Importing](#Importing)\n",
    "\n",
    "\n",
    "- [Inspect Data](#Inspect-Data)\n",
    "- [Clean Data](#Clean-Data)\n",
    "- [Output Clean Data](#Output-Clean-Data)\n",
    "\n",
    "\n",
    "- [EDA](#EDA)\n",
    "\n",
    "\n",
    "- [LR Model Exploratory](#LR-Model-Exploratory)\n",
    "- [Create Feature Matrix and Target](#Create-Feature-Matrix-and-Target)\n",
    "- [LR Model](#LR-Model)\n",
    "- [Ridge Model](#Ridge-Model)\n",
    "- [Lasso Model](#Lasso-Model)\n",
    "\n",
    "\n",
    "- [Output Model Predictions](#Output-Model-Predictions)\n",
    "\n",
    "\n",
    "- [Descriptive and Inferential Statistics](#Descriptive-and-Inferential-Statistics)\n",
    "- [Outside Research](#Outside-Research)\n",
    "- [Conclusions and Recommendations](#Conclusions-and-Recommendations)"
   ]
  },
  {
   "cell_type": "markdown",
   "metadata": {},
   "source": [
    "### Problem Statement\n",
    "\n",
    "- Blank"
   ]
  },
  {
   "cell_type": "markdown",
   "metadata": {},
   "source": [
    "### Functions"
   ]
  },
  {
   "cell_type": "code",
   "execution_count": 1,
   "metadata": {},
   "outputs": [],
   "source": [
    "# user configuration\n",
    "\n",
    "url = \"http://www.reddit.com/r/boardgames.json\"\n",
    "headers = {'User-agent':'Bleep blorp bot 0.1'}\n",
    "\n",
    "num_requests = 40"
   ]
  },
  {
   "cell_type": "code",
   "execution_count": 2,
   "metadata": {},
   "outputs": [],
   "source": [
    "def output_json(data):\n",
    "\n",
    "    timestamp = dt.datetime.now()\n",
    "    timestamp = timestamp.strftime(\"%Y_%m_%d %H_%M_%S\")\n",
    "    \n",
    "    filename = 'boardgames ' + timestamp + '.json'\n",
    "    \n",
    "    file = open(json_path + filename,\"w+\")    \n",
    "    json.dump(data,file)\n",
    "    \n",
    "    print('created',filename)"
   ]
  },
  {
   "cell_type": "markdown",
   "metadata": {},
   "source": [
    "### Importing"
   ]
  },
  {
   "cell_type": "code",
   "execution_count": 3,
   "metadata": {},
   "outputs": [],
   "source": [
    "# import libraries\n",
    "\n",
    "# maths\n",
    "import scipy.stats as stats\n",
    "import numpy as np\n",
    "import pandas as pd\n",
    "#from pandas.api.types import is_numeric_dtype\n",
    "\n",
    "# visual\n",
    "import seaborn as sns\n",
    "import matplotlib.pyplot as plt\n",
    "%matplotlib inline\n",
    "\n",
    "# machine learning\n",
    "from sklearn.linear_model import LinearRegression,Ridge,RidgeCV,Lasso,LassoCV,ElasticNet \n",
    "from sklearn import linear_model\n",
    "from sklearn.model_selection import train_test_split,cross_val_score\n",
    "from sklearn.preprocessing import StandardScaler,PolynomialFeatures\n",
    "from sklearn.linear_model import Ridge\n",
    "from sklearn.metrics import r2_score,mean_squared_error\n",
    "\n",
    "# web\n",
    "import requests\n",
    "import json\n",
    "from IPython.display import Image\n",
    "from IPython.core.display import HTML\n",
    "\n",
    "# others\n",
    "import time\n",
    "import datetime as dt\n",
    "#import re\n",
    "#import os"
   ]
  },
  {
   "cell_type": "code",
   "execution_count": 4,
   "metadata": {},
   "outputs": [],
   "source": [
    "# file paths\n",
    "\n",
    "input_path = '../data/input/'\n",
    "mid_path = '../data/mid/'\n",
    "output_path = '../data/output/'\n",
    "\n",
    "json_path = '../data/json/'\n",
    "\n",
    "image_path = '../images/'"
   ]
  },
  {
   "cell_type": "code",
   "execution_count": 5,
   "metadata": {},
   "outputs": [
    {
     "name": "stdout",
     "output_type": "stream",
     "text": [
      "200\n"
     ]
    },
    {
     "data": {
      "text/plain": [
       "['data', 'kind']"
      ]
     },
     "execution_count": 5,
     "metadata": {},
     "output_type": "execute_result"
    }
   ],
   "source": [
    "# get json from reddit boardgames\n",
    "\n",
    "response = requests.get(url,headers=headers)\n",
    "print(response.status_code)\n",
    "\n",
    "json_data = response.json()\n",
    "sorted(json_data.keys())"
   ]
  },
  {
   "cell_type": "code",
   "execution_count": 6,
   "metadata": {},
   "outputs": [
    {
     "name": "stdout",
     "output_type": "stream",
     "text": [
      "26\n",
      "Listing\n",
      "['after', 'before', 'children', 'dist', 'modhash']\n",
      "{'approved_at_utc': None, 'subreddit': 'boardgames', 'selftext': '**Welcome to /r/boardgames Daily Discussion and Game Recommendations**\\n\\nThis is meant to be a place where you can ask any and all questions relating to the board gaming world: general or specific game recommendations, rule clarifications, definitions of terms/acronyms, and other quick questions that might not warrant their own post. \\n\\nIf you are seeking game recommendations you will get better responses if you give us enough background to help you. You can use [this template](https://www.reddit.com/r/boardgames/wiki/personalized-game-recommendation-template-no-explainer) to do so. [Here](https://www.reddit.com/r/boardgames/wiki/personalized-game-recommendation-template) is a version with explanations of what we\\'re looking for.  \\n\\nIf you reply to any comment that has a game name in **bold** with \"**/u/r2d8 getparentinfo**\", one of our robots will tell you more about the game\\n\\nJust remember that this is a community full of awesome, helpful people, and feel free to ask your questions whatever they may be. As always, keep it civil and remember what the downvote button is actually for.\\n\\n\\nLastly, here are some of the resources available at /r/boardgames:\\n\\n* If you are new here, be sure to check out our [Community Guidelines](https://www.reddit.com/r/boardgames/wiki/community)\\n* If you are looking for a game recommendation, make sure to read our [What Should I Get Wiki](https://www.reddit.com/r/boardgames/wiki/wsig)\\n* If asking people for recommendations is too interactive: [The Automated Recommendations Robot is here for you](https://www.reddit.com/r/boardgames/wiki/wsig#wiki_ask_a_robot_for_a_list_of_recommendations).\\n* Also take a look at our [Wiki Index](https://www.reddit.com/r/boardgames/wiki/index) for various other resources and information.\\n* Any questions about game design can be answered here, but also visit /r/tabletopgamedesign\\n* Any discussions about the subreddit itself should be contained in /r/metaboardgames\\n\\n*If you use the boardgamerecommender bot in this thread, please reply to the stickied top comment in order to avoid cluttering up the posts.*\\n\\nHappy gaming!', 'author_fullname': 't2_6l4z3', 'saved': False, 'mod_reason_title': None, 'gilded': 0, 'clicked': False, 'title': '/r/boardgames Daily Discussion and Game Recommendations (July 15, 2019)', 'link_flair_richtext': [{'e': 'text', 't': 'Daily Game Recs'}], 'subreddit_name_prefixed': 'r/boardgames', 'hidden': False, 'pwls': 6, 'link_flair_css_class': None, 'downs': 0, 'thumbnail_height': None, 'hide_score': False, 'name': 't3_cdd70w', 'quarantine': False, 'link_flair_text_color': 'light', 'author_flair_background_color': '#d0fffd', 'subreddit_type': 'public', 'ups': 4, 'total_awards_received': 0, 'media_embed': {}, 'thumbnail_width': None, 'author_flair_template_id': '326005ee-9cf2-11e8-8b1f-0e8f9a199476', 'is_original_content': False, 'user_reports': [], 'secure_media': None, 'is_reddit_media_domain': False, 'is_meta': False, 'category': None, 'secure_media_embed': {}, 'link_flair_text': 'Daily Game Recs', 'can_mod_post': False, 'score': 4, 'approved_by': None, 'thumbnail': 'self', 'edited': False, 'author_flair_css_class': None, 'author_flair_richtext': [{'e': 'text', 't': '🤖'}], 'gildings': {}, 'content_categories': None, 'is_self': True, 'mod_note': None, 'created': 1563195734.0, 'link_flair_type': 'richtext', 'wls': 6, 'banned_by': None, 'author_flair_type': 'richtext', 'domain': 'self.boardgames', 'allow_live_comments': False, 'selftext_html': '&lt;!-- SC_OFF --&gt;&lt;div class=\"md\"&gt;&lt;p&gt;&lt;strong&gt;Welcome to &lt;a href=\"/r/boardgames\"&gt;/r/boardgames&lt;/a&gt; Daily Discussion and Game Recommendations&lt;/strong&gt;&lt;/p&gt;\\n\\n&lt;p&gt;This is meant to be a place where you can ask any and all questions relating to the board gaming world: general or specific game recommendations, rule clarifications, definitions of terms/acronyms, and other quick questions that might not warrant their own post. &lt;/p&gt;\\n\\n&lt;p&gt;If you are seeking game recommendations you will get better responses if you give us enough background to help you. You can use &lt;a href=\"https://www.reddit.com/r/boardgames/wiki/personalized-game-recommendation-template-no-explainer\"&gt;this template&lt;/a&gt; to do so. &lt;a href=\"https://www.reddit.com/r/boardgames/wiki/personalized-game-recommendation-template\"&gt;Here&lt;/a&gt; is a version with explanations of what we&amp;#39;re looking for.  &lt;/p&gt;\\n\\n&lt;p&gt;If you reply to any comment that has a game name in &lt;strong&gt;bold&lt;/strong&gt; with &amp;quot;&lt;strong&gt;&lt;a href=\"/u/r2d8\"&gt;/u/r2d8&lt;/a&gt; getparentinfo&lt;/strong&gt;&amp;quot;, one of our robots will tell you more about the game&lt;/p&gt;\\n\\n&lt;p&gt;Just remember that this is a community full of awesome, helpful people, and feel free to ask your questions whatever they may be. As always, keep it civil and remember what the downvote button is actually for.&lt;/p&gt;\\n\\n&lt;p&gt;Lastly, here are some of the resources available at &lt;a href=\"/r/boardgames\"&gt;/r/boardgames&lt;/a&gt;:&lt;/p&gt;\\n\\n&lt;ul&gt;\\n&lt;li&gt;If you are new here, be sure to check out our &lt;a href=\"https://www.reddit.com/r/boardgames/wiki/community\"&gt;Community Guidelines&lt;/a&gt;&lt;/li&gt;\\n&lt;li&gt;If you are looking for a game recommendation, make sure to read our &lt;a href=\"https://www.reddit.com/r/boardgames/wiki/wsig\"&gt;What Should I Get Wiki&lt;/a&gt;&lt;/li&gt;\\n&lt;li&gt;If asking people for recommendations is too interactive: &lt;a href=\"https://www.reddit.com/r/boardgames/wiki/wsig#wiki_ask_a_robot_for_a_list_of_recommendations\"&gt;The Automated Recommendations Robot is here for you&lt;/a&gt;.&lt;/li&gt;\\n&lt;li&gt;Also take a look at our &lt;a href=\"https://www.reddit.com/r/boardgames/wiki/index\"&gt;Wiki Index&lt;/a&gt; for various other resources and information.&lt;/li&gt;\\n&lt;li&gt;Any questions about game design can be answered here, but also visit &lt;a href=\"/r/tabletopgamedesign\"&gt;/r/tabletopgamedesign&lt;/a&gt;&lt;/li&gt;\\n&lt;li&gt;Any discussions about the subreddit itself should be contained in &lt;a href=\"/r/metaboardgames\"&gt;/r/metaboardgames&lt;/a&gt;&lt;/li&gt;\\n&lt;/ul&gt;\\n\\n&lt;p&gt;&lt;em&gt;If you use the boardgamerecommender bot in this thread, please reply to the stickied top comment in order to avoid cluttering up the posts.&lt;/em&gt;&lt;/p&gt;\\n\\n&lt;p&gt;Happy gaming!&lt;/p&gt;\\n&lt;/div&gt;&lt;!-- SC_ON --&gt;', 'likes': None, 'suggested_sort': 'new', 'banned_at_utc': None, 'view_count': None, 'archived': False, 'no_follow': True, 'is_crosspostable': False, 'pinned': False, 'over_18': False, 'all_awardings': [], 'media_only': False, 'link_flair_template_id': '01476204-cd40-11e7-a8ba-0e829f432fc8', 'can_gild': False, 'spoiler': False, 'locked': False, 'author_flair_text': '🤖', 'visited': False, 'num_reports': None, 'distinguished': 'moderator', 'subreddit_id': 't5_2qmjp', 'mod_reason_by': None, 'removal_reason': None, 'link_flair_background_color': '#4a4b4a', 'id': 'cdd70w', 'is_robot_indexable': True, 'report_reasons': None, 'author': 'AutoModerator', 'num_crossposts': 1, 'num_comments': 13, 'send_replies': False, 'whitelist_status': 'all_ads', 'contest_mode': False, 'mod_reports': [], 'author_patreon_flair': False, 'author_flair_text_color': 'dark', 'permalink': '/r/boardgames/comments/cdd70w/rboardgames_daily_discussion_and_game/', 'parent_whitelist_status': 'all_ads', 'stickied': True, 'url': 'https://www.reddit.com/r/boardgames/comments/cdd70w/rboardgames_daily_discussion_and_game/', 'subreddit_subscribers': 2047801, 'created_utc': 1563166934.0, 'discussion_type': None, 'media': None, 'is_video': False}\n",
      "t3_cd4tpz\n"
     ]
    }
   ],
   "source": [
    "# print number of posts in json_data\n",
    "print(len(json_data['data']['children']))\n",
    "\n",
    "# print info in kind\n",
    "print(json_data['kind'])\n",
    "print('')\n",
    "\n",
    "# print data keys\n",
    "print(sorted(json_data['data'].keys()))\n",
    "print('')\n",
    "\n",
    "# print 1st post\n",
    "print(json_data['data']['children'][0]['data'])\n",
    "print('')\n",
    "\n",
    "# print id of of last post\n",
    "print(json_data['data']['after'])"
   ]
  },
  {
   "cell_type": "code",
   "execution_count": 7,
   "metadata": {},
   "outputs": [
    {
     "data": {
      "text/plain": [
       "['t3_cdd70w',\n",
       " 't3_cd96px',\n",
       " 't3_cdgvqg',\n",
       " 't3_cdfyjv',\n",
       " 't3_cd52gi',\n",
       " 't3_cd9zij',\n",
       " 't3_cd4prk',\n",
       " 't3_cdd9do',\n",
       " 't3_cdedxz',\n",
       " 't3_cdco7u',\n",
       " 't3_cddjmf',\n",
       " 't3_cd955j',\n",
       " 't3_cdbbm3',\n",
       " 't3_cdh4dv',\n",
       " 't3_cd57ta',\n",
       " 't3_cdf41m',\n",
       " 't3_cdgwtq',\n",
       " 't3_cdgwer',\n",
       " 't3_cd69wt',\n",
       " 't3_cdgoxh',\n",
       " 't3_cd9cj8',\n",
       " 't3_ccvd2t',\n",
       " 't3_cdfwst',\n",
       " 't3_cdfucd',\n",
       " 't3_cd22ih',\n",
       " 't3_cd4tpz']"
      ]
     },
     "execution_count": 7,
     "metadata": {},
     "output_type": "execute_result"
    }
   ],
   "source": [
    "# print ids of all posts\n",
    "\n",
    "[post['data']['name'] for post in json_data['data']['children']]"
   ]
  },
  {
   "cell_type": "code",
   "execution_count": 8,
   "metadata": {},
   "outputs": [
    {
     "name": "stdout",
     "output_type": "stream",
     "text": [
      "process request 1\n",
      "created boardgames 2019_07_15 21_02_41.json\n",
      "process request 2\n",
      "created boardgames 2019_07_15 21_02_44.json\n",
      "process request 3\n",
      "created boardgames 2019_07_15 21_02_48.json\n",
      "process request 4\n",
      "created boardgames 2019_07_15 21_02_52.json\n",
      "process request 5\n",
      "created boardgames 2019_07_15 21_02_56.json\n",
      "process request 6\n",
      "created boardgames 2019_07_15 21_03_00.json\n",
      "process request 7\n",
      "created boardgames 2019_07_15 21_03_04.json\n",
      "process request 8\n",
      "created boardgames 2019_07_15 21_03_08.json\n",
      "process request 9\n",
      "created boardgames 2019_07_15 21_03_12.json\n",
      "process request 10\n",
      "created boardgames 2019_07_15 21_03_15.json\n",
      "process request 11\n",
      "created boardgames 2019_07_15 21_03_19.json\n",
      "process request 12\n",
      "created boardgames 2019_07_15 21_03_23.json\n",
      "process request 13\n",
      "created boardgames 2019_07_15 21_03_27.json\n",
      "process request 14\n",
      "created boardgames 2019_07_15 21_03_31.json\n",
      "process request 15\n",
      "created boardgames 2019_07_15 21_03_35.json\n",
      "process request 16\n",
      "created boardgames 2019_07_15 21_03_39.json\n",
      "process request 17\n",
      "created boardgames 2019_07_15 21_03_43.json\n",
      "process request 18\n",
      "created boardgames 2019_07_15 21_03_47.json\n",
      "process request 19\n",
      "created boardgames 2019_07_15 21_03_50.json\n",
      "process request 20\n",
      "created boardgames 2019_07_15 21_03_54.json\n",
      "process request 21\n",
      "created boardgames 2019_07_15 21_03_58.json\n",
      "process request 22\n",
      "created boardgames 2019_07_15 21_04_03.json\n",
      "process request 23\n",
      "created boardgames 2019_07_15 21_04_07.json\n",
      "process request 24\n",
      "created boardgames 2019_07_15 21_04_11.json\n",
      "process request 25\n",
      "created boardgames 2019_07_15 21_04_15.json\n",
      "process request 26\n",
      "created boardgames 2019_07_15 21_04_19.json\n",
      "process request 27\n",
      "created boardgames 2019_07_15 21_04_23.json\n",
      "process request 28\n",
      "created boardgames 2019_07_15 21_04_27.json\n",
      "process request 29\n",
      "created boardgames 2019_07_15 21_04_31.json\n",
      "process request 30\n",
      "created boardgames 2019_07_15 21_04_35.json\n",
      "process request 31\n",
      "created boardgames 2019_07_15 21_04_39.json\n",
      "process request 32\n",
      "created boardgames 2019_07_15 21_04_43.json\n",
      "process request 33\n",
      "created boardgames 2019_07_15 21_04_46.json\n",
      "process request 34\n",
      "created boardgames 2019_07_15 21_04_51.json\n",
      "process request 35\n",
      "created boardgames 2019_07_15 21_04_55.json\n",
      "process request 36\n",
      "created boardgames 2019_07_15 21_04_59.json\n",
      "process request 37\n",
      "created boardgames 2019_07_15 21_05_03.json\n",
      "process request 38\n",
      "created boardgames 2019_07_15 21_05_07.json\n",
      "process request 39\n",
      "created boardgames 2019_07_15 21_05_10.json\n",
      "process request 40\n",
      "created boardgames 2019_07_15 21_05_15.json\n"
     ]
    }
   ],
   "source": [
    "# get json_data with multiple requests\n",
    "\n",
    "posts = []\n",
    "after = None\n",
    "\n",
    "for i in range(1,num_requests+1):\n",
    "    \n",
    "    if after == None:\n",
    "        params = {}\n",
    "    else:\n",
    "        params = {'after':after}\n",
    "        \n",
    "    response = requests.get(url,params=params,headers=headers)\n",
    "    \n",
    "    if response.status_code == 200:       \n",
    "        \n",
    "        print('process request',i)\n",
    "        \n",
    "        json_data = response.json()\n",
    "        posts.extend(json_data['data']['children'])\n",
    "        after = json_data['data']['after']\n",
    "        \n",
    "        output_json(json_data)        \n",
    "        \n",
    "    else:\n",
    "        print(response.status_code)\n",
    "        break\n",
    "        \n",
    "    time.sleep(3)"
   ]
  },
  {
   "cell_type": "code",
   "execution_count": 9,
   "metadata": {},
   "outputs": [
    {
     "data": {
      "text/plain": [
       "989"
      ]
     },
     "execution_count": 9,
     "metadata": {},
     "output_type": "execute_result"
    }
   ],
   "source": [
    "len(posts)"
   ]
  },
  {
   "cell_type": "code",
   "execution_count": 10,
   "metadata": {},
   "outputs": [
    {
     "data": {
      "text/plain": [
       "963"
      ]
     },
     "execution_count": 10,
     "metadata": {},
     "output_type": "execute_result"
    }
   ],
   "source": [
    "# check for dulpicates\n",
    "\n",
    "len(set(p['data']['name'] for p in posts))"
   ]
  },
  {
   "cell_type": "markdown",
   "metadata": {},
   "source": [
    "### Inspect Data"
   ]
  },
  {
   "cell_type": "code",
   "execution_count": 11,
   "metadata": {},
   "outputs": [],
   "source": [
    "# list all columns in df_train\n",
    "\n",
    "#print(df_train.columns)"
   ]
  },
  {
   "cell_type": "code",
   "execution_count": 12,
   "metadata": {},
   "outputs": [],
   "source": [
    "# output 1st 5 records in df_train\n",
    "\n",
    "#df_train.head()"
   ]
  },
  {
   "cell_type": "code",
   "execution_count": 13,
   "metadata": {},
   "outputs": [],
   "source": [
    "#df_train_info = df_train.describe()\n",
    "#df_train_info"
   ]
  },
  {
   "cell_type": "code",
   "execution_count": 14,
   "metadata": {},
   "outputs": [],
   "source": [
    "# Check for nulls in columns\n",
    "\n",
    "#null_cols = df_train.isnull().sum()\n",
    "#mask_null = null_cols > 0\n",
    "#null_cols[mask_null].sort_values(ascending=False)"
   ]
  },
  {
   "cell_type": "code",
   "execution_count": 15,
   "metadata": {},
   "outputs": [],
   "source": [
    "# Check for nulls in rows\n",
    "\n",
    "#null_rows = df_train.isnull().sum(axis=1)\n",
    "#mask_null = null_rows > 0\n",
    "#null_rows[mask_null].sort_values(ascending=False)"
   ]
  },
  {
   "cell_type": "code",
   "execution_count": 16,
   "metadata": {},
   "outputs": [],
   "source": [
    "# show column summary\n",
    "\n",
    "#df_train_info = df_train.info()"
   ]
  },
  {
   "cell_type": "code",
   "execution_count": 17,
   "metadata": {},
   "outputs": [],
   "source": [
    "# find columns with the most empty cells\n",
    "\n",
    "#df_train.count(axis=0).sort_values()"
   ]
  },
  {
   "cell_type": "markdown",
   "metadata": {},
   "source": [
    "### Clean Data"
   ]
  },
  {
   "cell_type": "code",
   "execution_count": 18,
   "metadata": {},
   "outputs": [],
   "source": [
    "# rename columns"
   ]
  },
  {
   "cell_type": "code",
   "execution_count": 19,
   "metadata": {},
   "outputs": [],
   "source": [
    "# convert all string in cells to lowercase -> prevent duplicates when creating dummies\n",
    "\n",
    "#df_train = df_train.applymap(lambda s:s.lower() if type(s) == str else s)\n",
    "#df_test = df_test.applymap(lambda s:s.lower() if type(s) == str else s)"
   ]
  },
  {
   "cell_type": "code",
   "execution_count": 20,
   "metadata": {},
   "outputs": [],
   "source": [
    "# fill nan/empty cells with na\n",
    "\n",
    "#cols = ['pool_qual','bsmt_qual','fireplace_score','garage_qual','garage_cond','bsmt_type1_score','bsmt_type2_score']\n",
    "\n",
    "#for col in cols:\n",
    "    #df_train[col] = df_train[col].fillna(value='na')\n",
    "    #df_test[col] = df_test[col].fillna(value='na')"
   ]
  },
  {
   "cell_type": "code",
   "execution_count": 21,
   "metadata": {},
   "outputs": [],
   "source": [
    "# # fill nan/empty cells with 0\n",
    "\n",
    "# cols = ['bath_half_bsmt_num','bath_full_bsmt_num','garage_area','garage_car_num','bsmt_total_area',\n",
    "#         'bsmt_unfinish_area','bsmt_type2_area','bsmt_type1_area']\n",
    "\n",
    "# for col in cols:\n",
    "#     df_train[col] = df_train[col].fillna(value='0')\n",
    "#     df_test[col] = df_test[col].fillna(value='0')"
   ]
  },
  {
   "cell_type": "markdown",
   "metadata": {},
   "source": [
    "### Output Clean Data"
   ]
  },
  {
   "cell_type": "code",
   "execution_count": 22,
   "metadata": {},
   "outputs": [],
   "source": [
    "# output to csv\n",
    "\n",
    "#df_train.to_csv(mid_path + 'df_train_clean.csv')"
   ]
  },
  {
   "cell_type": "markdown",
   "metadata": {},
   "source": [
    "### EDA"
   ]
  },
  {
   "cell_type": "code",
   "execution_count": 23,
   "metadata": {},
   "outputs": [],
   "source": [
    "# df_train heatmap (staircase)\n",
    "\n",
    "#corr = df_train.corr()\n",
    "#mask = np.zeros_like(corr)\n",
    "#mask[np.triu_indices_from(mask)] = True\n",
    "\n",
    "#fig, ax = plt.subplots(figsize=(20, 10))\n",
    "#sns.heatmap(corr, mask=mask, vmax=.3, square=True,cmap=\"coolwarm_r\");"
   ]
  },
  {
   "cell_type": "code",
   "execution_count": 24,
   "metadata": {},
   "outputs": [],
   "source": [
    "#create_scatterplot('Sale Price vs House Quality',df_train,x ='house_qual',y ='sale_price',hue ='lot_subclass')\n",
    "\n",
    "#print(\"sale price tends to increase as house quality increases.\")"
   ]
  },
  {
   "cell_type": "code",
   "execution_count": 25,
   "metadata": {},
   "outputs": [],
   "source": [
    "# create histograms for all numeric columns\n",
    "#df_train.hist(figsize=(15, 15));\n",
    "\n",
    "#print('plot histograms for all numeric columns to check for zeros and abnormalities.')"
   ]
  },
  {
   "cell_type": "code",
   "execution_count": 26,
   "metadata": {},
   "outputs": [],
   "source": [
    "#create_boxplot(df_train,x='lot_subclass',y='sale_price',title='Sale Price vs Lot Subclass')\n",
    "\n",
    "#print(\"Most subclasses has sale price between 100K to 200K.\")\n",
    "#print(\"4 subclasses have sale price above 200k and they have more outliers.\")\n",
    "#print(\"I will convert lot_subclass to dummy variables for model predictions.\")"
   ]
  },
  {
   "cell_type": "markdown",
   "metadata": {},
   "source": [
    "### Create Feature Matrix and Target"
   ]
  },
  {
   "cell_type": "code",
   "execution_count": null,
   "metadata": {},
   "outputs": [],
   "source": []
  },
  {
   "cell_type": "markdown",
   "metadata": {},
   "source": [
    "### LR Model"
   ]
  },
  {
   "cell_type": "code",
   "execution_count": null,
   "metadata": {},
   "outputs": [],
   "source": []
  },
  {
   "cell_type": "markdown",
   "metadata": {},
   "source": [
    "### Ridge Model"
   ]
  },
  {
   "cell_type": "code",
   "execution_count": null,
   "metadata": {},
   "outputs": [],
   "source": []
  },
  {
   "cell_type": "markdown",
   "metadata": {},
   "source": [
    "### Lasso Model"
   ]
  },
  {
   "cell_type": "code",
   "execution_count": null,
   "metadata": {},
   "outputs": [],
   "source": []
  },
  {
   "cell_type": "markdown",
   "metadata": {},
   "source": [
    "### Output Model Predictions"
   ]
  },
  {
   "cell_type": "code",
   "execution_count": 27,
   "metadata": {},
   "outputs": [],
   "source": [
    "# output to csv\n",
    "\n",
    "#timestamp = dt.datetime.now()\n",
    "#timestamp = timestamp.strftime(\" %Y_%m_%d %H_%M_%S \")\n",
    "    \n",
    "# contains selected columns for feature matrix\n",
    "#df_cols.to_csv(output_path + 'columns' + timestamp + '.csv')"
   ]
  },
  {
   "cell_type": "markdown",
   "metadata": {},
   "source": [
    "### Descriptive and Inferential Statistics"
   ]
  },
  {
   "cell_type": "code",
   "execution_count": null,
   "metadata": {},
   "outputs": [],
   "source": []
  },
  {
   "cell_type": "markdown",
   "metadata": {},
   "source": [
    "### Outside Research"
   ]
  },
  {
   "cell_type": "code",
   "execution_count": null,
   "metadata": {},
   "outputs": [],
   "source": []
  },
  {
   "cell_type": "markdown",
   "metadata": {},
   "source": [
    "### Conclusions and Recommendations"
   ]
  },
  {
   "cell_type": "code",
   "execution_count": null,
   "metadata": {},
   "outputs": [],
   "source": []
  }
 ],
 "metadata": {
  "kernelspec": {
   "display_name": "Python 3",
   "language": "python",
   "name": "python3"
  },
  "language_info": {
   "codemirror_mode": {
    "name": "ipython",
    "version": 3
   },
   "file_extension": ".py",
   "mimetype": "text/x-python",
   "name": "python",
   "nbconvert_exporter": "python",
   "pygments_lexer": "ipython3",
   "version": "3.7.3"
  }
 },
 "nbformat": 4,
 "nbformat_minor": 2
}
